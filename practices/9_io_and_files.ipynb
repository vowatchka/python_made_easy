{
 "cells": [
  {
   "cell_type": "markdown",
   "id": "b4d19843",
   "metadata": {},
   "source": [
    "# Практические задания главы 9 «Ввод-вывод данных и работа с файлами»"
   ]
  },
  {
   "cell_type": "markdown",
   "id": "9ca0fb5c",
   "metadata": {},
   "source": [
    "## Задание 1\n",
    "\n",
    "Напишите код, который принимает число от пользователя, а возвращает квадрат введенного числа.\n",
    "\n",
    "**Решение**"
   ]
  },
  {
   "cell_type": "code",
   "execution_count": 1,
   "id": "17e1f05d",
   "metadata": {},
   "outputs": [
    {
     "name": "stdout",
     "output_type": "stream",
     "text": [
      "Введите число: 5\n",
      "5 ** 2 = 25\n"
     ]
    }
   ],
   "source": [
    "num = int(input(\"Введите число: \"))\n",
    "print(f\"{num} ** 2 = {num ** 2}\")"
   ]
  },
  {
   "cell_type": "markdown",
   "id": "775fe325",
   "metadata": {},
   "source": [
    "## Задание 2\n",
    "\n",
    "Попросите у пользователя ввести его возраст в качестве входных данных. Вычтите его возраст из текущего года, чтобы узнать год рождения пользователя. Результат выведите в формате *«Я родился в ... году»*.\n",
    "\n",
    "**Решение**"
   ]
  },
  {
   "cell_type": "code",
   "execution_count": 2,
   "id": "07a11218",
   "metadata": {},
   "outputs": [
    {
     "name": "stdout",
     "output_type": "stream",
     "text": [
      "Введите свой возраст: 31\n",
      "Ваш год рождения: 1991\n"
     ]
    }
   ],
   "source": [
    "from datetime import datetime\n",
    "\n",
    "\n",
    "age = int(input(\"Введите свой возраст: \"))\n",
    "print(f\"Ваш год рождения: {datetime.now().year - age}\")"
   ]
  },
  {
   "cell_type": "markdown",
   "id": "26ea6b8f",
   "metadata": {},
   "source": [
    "## Задание 3\n",
    "\n",
    "Напишите функцию, которая принимает три аргумента: входной файл, выходной файл и функцию преобразования. Первый аргумент - это файл, открытый для чтения, второй аргумент - это файл, открытый для записи, а третий аргумент - это функция преобразования, которая принимает строку на вход, выполняет какое-то преобразование по вашему выбору и возвращает измененную строку. Основная функция должна читать строку из входного файла, выполнять над ней функцию преобразования, а затем записывать измененную строку в выходной файл. Преобразование может быть, например, таким: каждое слово в строке должно начинаться с заглавной буквы.\n",
    "\n",
    "**Решение**"
   ]
  },
  {
   "cell_type": "code",
   "execution_count": 6,
   "id": "997b41ca",
   "metadata": {},
   "outputs": [
    {
     "name": "stdout",
     "output_type": "stream",
     "text": [
      "я ВИЖУ НА БОЛОТНЫХ КОЧКАХ\n",
      "оГРОМНЫХ ФОСФОРНЫХ СОБАК...\n",
      "сКАЖИТЕ, хОЛМС, А В ТРУБКЕ ТОЧНО\n",
      "тАБАК?\n",
      "\n"
     ]
    }
   ],
   "source": [
    "from typing import Callable\n",
    "\n",
    "\n",
    "def f(in_file: str, out_file: str, conversion_func: Callable):\n",
    "    with open(in_file, \"r\", encoding=\"utf-8\") as f1:\n",
    "        with open(out_file, \"w\", encoding=\"utf-8\") as f2:\n",
    "            for line in f1:\n",
    "                f2.write(conversion_func(line))\n",
    "                \n",
    "                \n",
    "f(\"1.txt\", \"2.txt\", str.swapcase)\n",
    "with open(\"2.txt\", \"r\", encoding=\"utf-8\") as f:\n",
    "    print(f.read())"
   ]
  },
  {
   "cell_type": "markdown",
   "id": "b2ca15af",
   "metadata": {},
   "source": [
    "## Задание 4\n",
    "\n",
    "Напишите функцию для создания текстового файла, содержащего следующие данные:\n",
    "\n",
    "```\n",
    "The 344-sq. km. the periphery of Navi Mimbai starts on the East with Kalundre village, on the West is the hill range that starts from Digha and runs up to Taloja; in the North is Digha village while Chanje village lies in the South, Dronagiri is on the South-East. The area comprised of 95 villages of Thane and Raigad Districts.\n",
    "```\n",
    "\n",
    "* Прочитайте все содержимое файла с помощью метода `read()` или `readlines()` и отобразите его на экране.\n",
    "* Добавьте в файл любой текст на свое усмотрение и выведите содержимое файла с номерами строк.\n",
    "* Выведите последнюю строку файла.\n",
    "* Выведите первую строку, начиная с 10-го символа.\n",
    "* Попросите пользователя указать номер строки из файла, которую нужно прочитать.\n",
    "\n",
    "**Решение**"
   ]
  },
  {
   "cell_type": "code",
   "execution_count": 26,
   "id": "efb29688",
   "metadata": {},
   "outputs": [
    {
     "name": "stdout",
     "output_type": "stream",
     "text": [
      "The 344-sq. km. the periphery of Navi Mimbai starts on the East with Kalundre village, on the West is the hill range that starts from Digha and runs up to Taloja; in the North is Digha village while Chanje village lies in the South, Dronagiri is on the South-East. The area comprised of 95 villages of Thane and Raigad Districts.\n",
      "\n",
      "0: The 344-sq. km. the periphery of Navi Mimbai starts on the East with Kalundre village, on the West is the hill range that starts from Digha and runs up to Taloja; in the North is Digha village while Chanje village lies in the South, Dronagiri is on the South-East. The area comprised of 95 villages of Thane and Raigad Districts. Fun!\n",
      "\n",
      "The 344-sq. km. the periphery of Navi Mimbai starts on the East with Kalundre village, on the West is the hill range that starts from Digha and runs up to Taloja; in the North is Digha village while Chanje village lies in the South, Dronagiri is on the South-East. The area comprised of 95 villages of Thane and Raigad Districts. Fun!\n",
      "\n",
      ". km. the periphery of Navi Mimbai starts on the East with Kalundre village, on the West is the hill range that starts from Digha and runs up to Taloja; in the North is Digha village while Chanje village lies in the South, Dronagiri is on the South-East. The area comprised of 95 villages of Thane and Raigad Districts. Fun!\n",
      "\n",
      "Какую строку из файла прочитать? 1\n",
      "The 344-sq. km. the periphery of Navi Mimbai starts on the East with Kalundre village, on the West is the hill range that starts from Digha and runs up to Taloja; in the North is Digha village while Chanje village lies in the South, Dronagiri is on the South-East. The area comprised of 95 villages of Thane and Raigad Districts. Fun!\n"
     ]
    }
   ],
   "source": [
    "def create_file(filename: str):\n",
    "    \"\"\"Создание текстового файла с заранее заготовленным содержимым\"\"\"\n",
    "    with open(filename, \"w\", encoding=\"utf-8\") as f:\n",
    "        f.write(\n",
    "            \"The 344-sq. km. the periphery of Navi Mimbai starts on the East with Kalundre village, on\"\n",
    "            \" the West is the hill range that starts from Digha and runs up to Taloja; in the North is\"\n",
    "            \" Digha village while Chanje village lies in the South, Dronagiri is on the South-East. The\"\n",
    "            \" area comprised of 95 villages of Thane and Raigad Districts.\"\n",
    "        )\n",
    "        \n",
    "        \n",
    "def print_content(filename: str):\n",
    "    \"\"\"Печать содержимого файла на экран\"\"\"\n",
    "    with open(filename, \"r\", encoding=\"utf-8\") as f:\n",
    "        print(f.read())\n",
    "        \n",
    "\n",
    "def add_content(filename: str, content: str):\n",
    "    \"\"\"Добавить любой контент в файл\"\"\"\n",
    "    with open(filename, \"a\", encoding=\"utf-8\") as f:\n",
    "        f.write(content)\n",
    "        \n",
    "\n",
    "def print_content_with_numlines(filename: str):\n",
    "    \"\"\"Печать содержимого файла на экран c номерами строк\"\"\"\n",
    "    with open(filename, \"r\", encoding=\"utf-8\") as f:\n",
    "        lines = f.readlines()\n",
    "        for idx, line in enumerate(lines):\n",
    "            print(f\"{idx}: {line}\", end=\"\\n\" if idx == len(lines) - 1 else \"\")\n",
    "        \n",
    "        \n",
    "def print_last_line(filename: str):\n",
    "    \"\"\"Вывод последней строки файла\"\"\"\n",
    "    with open(filename, \"r\", encoding=\"utf-8\") as f:\n",
    "        print(f.readlines()[-1])\n",
    "        \n",
    "    \n",
    "def print_first_line(filename: str, start_from: int = 0):\n",
    "    \"\"\"Вывод первой строки файла, начиная с указанного символа\"\"\"\n",
    "    with open(filename, \"r\", encoding=\"utf-8\") as f:\n",
    "        if start_from > 0:\n",
    "            f.seek(start_from)\n",
    "        print(f.readline())\n",
    "        \n",
    "        \n",
    "def read_line(filename: str, numline: int):\n",
    "    \"\"\"Чтение указанной строки\"\"\"\n",
    "    with open(filename, \"r\", encoding=\"utf-8\") as f:\n",
    "        for idx, line in enumerate(f):\n",
    "            if idx + 1 == numline:\n",
    "                print(line)\n",
    "                break\n",
    "                \n",
    "                \n",
    "create_file(\"file.txt\")\n",
    "print_content(\"file.txt\")\n",
    "print()\n",
    "\n",
    "add_content(\"file.txt\", \" Fun!\")\n",
    "print_content_with_numlines(\"file.txt\")\n",
    "print()\n",
    "\n",
    "print_last_line(\"file.txt\")\n",
    "print()\n",
    "\n",
    "print_first_line(\"file.txt\", start_from=10)\n",
    "print()\n",
    "\n",
    "numline = int(input(\"Какую строку из файла прочитать? \"))\n",
    "read_line(\"file.txt\", numline=numline)"
   ]
  },
  {
   "cell_type": "markdown",
   "id": "7aae9f6d",
   "metadata": {},
   "source": [
    "## Задание 5\n",
    "\n",
    "Напишите программу, которая принимает от пользователя имя файла и отображает все строки из файла, которые содержат символ комментария Python `#`.\n",
    "\n",
    "**Решение**"
   ]
  },
  {
   "cell_type": "markdown",
   "id": "f2d140a2",
   "metadata": {},
   "source": [
    "## Задание 6\n",
    "\n",
    "Читать файл с начала - это просто, но что если вам нужно прочитать файл в обратном направлении, например для чтения файлов с логами. Напишите программу для чтения и отображения содержимого файла от конца до начала.\n",
    "\n",
    "**Решение**"
   ]
  }
 ],
 "metadata": {
  "kernelspec": {
   "display_name": "Python 3 (ipykernel)",
   "language": "python",
   "name": "python3"
  },
  "language_info": {
   "codemirror_mode": {
    "name": "ipython",
    "version": 3
   },
   "file_extension": ".py",
   "mimetype": "text/x-python",
   "name": "python",
   "nbconvert_exporter": "python",
   "pygments_lexer": "ipython3",
   "version": "3.8.10"
  }
 },
 "nbformat": 4,
 "nbformat_minor": 5
}
