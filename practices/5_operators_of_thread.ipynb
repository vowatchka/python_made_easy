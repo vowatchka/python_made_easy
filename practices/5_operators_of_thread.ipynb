{
 "cells": [
  {
   "cell_type": "markdown",
   "id": "80b5b717",
   "metadata": {},
   "source": [
    "# Практические задания главы 5 «Операторы управления потоком»"
   ]
  },
  {
   "cell_type": "markdown",
   "id": "6882f9bd",
   "metadata": {},
   "source": [
    "## Задание 1\n",
    "\n",
    "Трейдер хочет, чтобы программа проверяла, получил ли он прибыль или убыток по сделке. Напишите программу в которой с клавиатуры вводится цена покупки и продажи, а в ответ программа сообщает, получил ли трейдер прибыль или убыток. Программа также должна рассчитать суммы прибыли или убытка.\n",
    "\n",
    "**Решение**"
   ]
  },
  {
   "cell_type": "code",
   "execution_count": 3,
   "id": "1f7e20a8",
   "metadata": {},
   "outputs": [
    {
     "name": "stdout",
     "output_type": "stream",
     "text": [
      "Цена покупки: 100\n",
      "Цена продажи: 555\n",
      "Трейдер получил прибыль в размере 455.0\n"
     ]
    }
   ],
   "source": [
    "buy_price = float(input(\"Цена покупки: \"))\n",
    "sale_price = float(input(\"Цена продажи: \"))\n",
    "\n",
    "if buy_price > sale_price:\n",
    "    print(f\"Трейдер получил убыток в размере {buy_price - sale_price}\")\n",
    "else:\n",
    "    print(f\"Трейдер получил прибыль в размере {sale_price - buy_price}\")"
   ]
  },
  {
   "cell_type": "markdown",
   "id": "3ecb5155",
   "metadata": {},
   "source": [
    "## Задание 2\n",
    "\n",
    "Напишите программу, которая проверяет, является ли год, введенный с клавиатуры, високосным.\n",
    "\n",
    "**Решение**"
   ]
  },
  {
   "cell_type": "code",
   "execution_count": 5,
   "id": "c0bd2a92",
   "metadata": {},
   "outputs": [
    {
     "name": "stdout",
     "output_type": "stream",
     "text": [
      "Год: 2022\n",
      "Год 2022 невисокосный\n"
     ]
    }
   ],
   "source": [
    "year = int(input(\"Год: \"))\n",
    "if (year % 4 == 0) and (year % 100 != 0) or (year % 400 == 0):\n",
    "    print(f\"Год {year} високосный\")\n",
    "else:\n",
    "    print(f\"Год {year} невисокосный\")"
   ]
  },
  {
   "cell_type": "markdown",
   "id": "06a02b0d",
   "metadata": {},
   "source": [
    "## Задание 3\n",
    "\n",
    "Трое сотрудников, Самир, Правин и Мохит, вводят свой опыт работы с клавиатуры. Напишите программу, которая определяет наиболее и наименее опытного из них.\n",
    "\n",
    "**Решение**"
   ]
  },
  {
   "cell_type": "code",
   "execution_count": 8,
   "id": "f030e7e1",
   "metadata": {},
   "outputs": [
    {
     "name": "stdout",
     "output_type": "stream",
     "text": [
      "Опыт работы Самира: 10\n",
      "Опыт работы Правина: 3\n",
      "Опыт работы Мохита: 15\n",
      "Самый опытный - Мохит\n",
      "Самый неопытный - Правин\n"
     ]
    }
   ],
   "source": [
    "emploies = dict()\n",
    "\n",
    "emploies[\"Самир\"] = int(input(\"Опыт работы Самира: \"))\n",
    "emploies[\"Правин\"] = int(input(\"Опыт работы Правина: \"))\n",
    "emploies[\"Мохит\"] = int(input(\"Опыт работы Мохита: \"))\n",
    "\n",
    "print(f\"Самый опытный - {max(emploies.items(), key=lambda t: t[1])[0]}\")\n",
    "print(f\"Самый неопытный - {min(emploies.items(), key=lambda t: t[1])[0]}\")"
   ]
  },
  {
   "cell_type": "markdown",
   "id": "42890be0",
   "metadata": {},
   "source": [
    "## Задание 4\n",
    "\n",
    "Сумма трех углов треугольника составляет 180 градусов. Напишите программу, которая проверяет, является ли фигура треугольником, если в качестве входных данных вводятся три угла.\n",
    "\n",
    "**Решение**"
   ]
  },
  {
   "cell_type": "code",
   "execution_count": 14,
   "id": "e6397a54",
   "metadata": {},
   "outputs": [
    {
     "name": "stdout",
     "output_type": "stream",
     "text": [
      "Угол a: 60\n",
      "Угол b: 60\n",
      "Угол c: 60\n",
      "Треугольник\n"
     ]
    }
   ],
   "source": [
    "a = int(input(\"Угол a: \"))\n",
    "b = int(input(\"Угол b: \"))\n",
    "c = int(input(\"Угол c: \"))\n",
    "\n",
    "if a > 0 and b > 0 and c > 0 and sum([a, b ,c]) == 180:\n",
    "    print(\"Треугольник\")\n",
    "else:\n",
    "    print(\"Не треугольник\")"
   ]
  },
  {
   "cell_type": "markdown",
   "id": "1d42ee45",
   "metadata": {},
   "source": [
    "## Задание 5\n",
    "\n",
    "Даны три угла треугольника. Напишите программу, которая проверит, является ли он прямоугольным (один из углов должен составлять 90 градусов).\n",
    "\n",
    "**Решение**"
   ]
  },
  {
   "cell_type": "code",
   "execution_count": 18,
   "id": "8de45bb1",
   "metadata": {},
   "outputs": [
    {
     "name": "stdout",
     "output_type": "stream",
     "text": [
      "Угол a: 90\n",
      "Угол b: 60\n",
      "Угол c: 30\n",
      "Прямоугольный треугольник\n"
     ]
    }
   ],
   "source": [
    "a = int(input(\"Угол a: \"))\n",
    "b = int(input(\"Угол b: \"))\n",
    "c = int(input(\"Угол c: \"))\n",
    "\n",
    "if a > 0 and b > 0 and c > 0 and sum([a, b ,c]) == 180:\n",
    "    if a == 90 or b == 90 or c == 90:\n",
    "        print(\"Прямоугольный треугольник\")\n",
    "    else:\n",
    "        print(\"Не прямоугольный треугольник\")\n",
    "else:\n",
    "    print(\"Не треугольник\")"
   ]
  },
  {
   "cell_type": "markdown",
   "id": "bfaef245",
   "metadata": {},
   "source": [
    "## Задание 6\n",
    "\n",
    "Сколько разных трехзначных чисел можно получить, используя цифры 1, 2 и 3 в разных позициях? Напишите программу для генерации всех таких чисел (подсказка: используйте цикл `for`).\n",
    "\n",
    "**Решение**"
   ]
  },
  {
   "cell_type": "code",
   "execution_count": 22,
   "id": "890c9888",
   "metadata": {},
   "outputs": [
    {
     "data": {
      "text/plain": [
       "27"
      ]
     },
     "execution_count": 22,
     "metadata": {},
     "output_type": "execute_result"
    }
   ],
   "source": [
    "len([f\"{i}{j}{k}\" for i in range(1, 4) for j in range(1, 4) for k in range(1, 4)])"
   ]
  },
  {
   "cell_type": "markdown",
   "id": "c6b39dcd",
   "metadata": {},
   "source": [
    "## Задание 7\n",
    "\n",
    "Напишите код для вывода таблицы умножения любого заданного числа.\n",
    "\n",
    "**Решение**"
   ]
  },
  {
   "cell_type": "code",
   "execution_count": 26,
   "id": "0ebad096",
   "metadata": {},
   "outputs": [
    {
     "name": "stdout",
     "output_type": "stream",
     "text": [
      "Число: 9\n",
      "9 * 2 = 18\n",
      "9 * 3 = 27\n",
      "9 * 4 = 36\n",
      "9 * 5 = 45\n",
      "9 * 6 = 54\n",
      "9 * 7 = 63\n",
      "9 * 8 = 72\n",
      "9 * 9 = 81\n"
     ]
    }
   ],
   "source": [
    "num = int(input(\"Число: \"))\n",
    "\n",
    "if num < 2 or num > 9:\n",
    "    raise ValueError(\"Таблица умножения строится только для чисел в диапазоне [2; 9]\")\n",
    "    \n",
    "for i in range(2, 10):\n",
    "    print(f\"{num} * {i} = {num * i}\")"
   ]
  },
  {
   "cell_type": "markdown",
   "id": "a3a205d9",
   "metadata": {},
   "source": [
    "## Задание 8\n",
    "\n",
    "Напишите программу для вывода всех простых чисел от 1 до 500.\n",
    "\n",
    "**Решение**"
   ]
  },
  {
   "cell_type": "code",
   "execution_count": 29,
   "id": "e6c3ee6f",
   "metadata": {},
   "outputs": [
    {
     "name": "stdout",
     "output_type": "stream",
     "text": [
      "2, 3, 5, 7, 11, 13, 17, 19, 23, 29, 31, 37, 41, 43, 47, 53, 59, 61, 67, 71, 73, 79, 83, 89, 97, 101, 103, 107, 109, 113, 127, 131, 137, 139, 149, 151, 157, 163, 167, 173, 179, 181, 191, 193, 197, 199, 211, 223, 227, 229, 233, 239, 241, 251, 257, 263, 269, 271, 277, 281, 283, 293, 307, 311, 313, 317, 331, 337, 347, 349, 353, 359, 367, 373, 379, 383, 389, 397, 401, 409, 419, 421, 431, 433, 439, 443, 449, 457, 461, 463, 467, 479, 487, 491, 499\n"
     ]
    }
   ],
   "source": [
    "def simple_nums(a, b):\n",
    "    for i in range(a, b + 1):\n",
    "        if i == 1:\n",
    "            continue\n",
    "\n",
    "        deviders = 0\n",
    "        for j in range(1, i + 1):\n",
    "            if i % j == 0:\n",
    "                deviders += 1\n",
    "\n",
    "        if deviders == 2:\n",
    "            yield i\n",
    "            \n",
    "print(\", \".join(str(x) for x in simple_nums(1, 500)))"
   ]
  },
  {
   "cell_type": "markdown",
   "id": "bbff0ffb",
   "metadata": {},
   "source": [
    "## Задание 9\n",
    "\n",
    "Выведите все числа, краные 9, которые меньше 300 (подсказка: вы можете использовать функцию `range()`).\n",
    "\n",
    "**Решение**"
   ]
  },
  {
   "cell_type": "code",
   "execution_count": 30,
   "id": "89c2658e",
   "metadata": {},
   "outputs": [
    {
     "name": "stdout",
     "output_type": "stream",
     "text": [
      "0, 9, 18, 27, 36, 45, 54, 63, 72, 81, 90, 99, 108, 117, 126, 135, 144, 153, 162, 171, 180, 189, 198, 207, 216, 225, 234, 243, 252, 261, 270, 279, 288, 297\n"
     ]
    }
   ],
   "source": [
    "def nums():\n",
    "    for i in range(301):\n",
    "        if i % 9 == 0:\n",
    "            yield i\n",
    "            \n",
    "print(\", \".join(str(x) for x in nums()))"
   ]
  },
  {
   "cell_type": "markdown",
   "id": "bc894654",
   "metadata": {},
   "source": [
    "## Задание 10\n",
    "\n",
    "Машина в течение срока службы приносит годовой доход в размере 200 000 руб. Сама она стоит 1 000 000 руб. в момент покупки и продается за 250 000 руб. при утилизации. Вложив ту же сумму в другие инвестиционные инструменты, можно заработать 8% годовых. Каков минимальный срок службы машины, при котором она станет более привлекательной по сравнению с альтернативными инвестициями?\n",
    "\n",
    "**Решение**"
   ]
  }
 ],
 "metadata": {
  "kernelspec": {
   "display_name": "Python 3 (ipykernel)",
   "language": "python",
   "name": "python3"
  },
  "language_info": {
   "codemirror_mode": {
    "name": "ipython",
    "version": 3
   },
   "file_extension": ".py",
   "mimetype": "text/x-python",
   "name": "python",
   "nbconvert_exporter": "python",
   "pygments_lexer": "ipython3",
   "version": "3.8.10"
  }
 },
 "nbformat": 4,
 "nbformat_minor": 5
}
