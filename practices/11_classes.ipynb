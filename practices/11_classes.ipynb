{
 "cells": [
  {
   "cell_type": "markdown",
   "id": "816c4d0c",
   "metadata": {},
   "source": [
    "# Практические задания главы 11 «Классы»"
   ]
  },
  {
   "cell_type": "markdown",
   "id": "4c9013ec",
   "metadata": {},
   "source": [
    "## Задание 1\n",
    "\n",
    "Рассмотрим следующее определение класса:\n",
    "\n",
    "```\n",
    "class Yourclass:\n",
    "    marks = 10\n",
    "    name = \"ABC\"\n",
    "    \n",
    "    def __init__(self, marks, name):\n",
    "        self.marks = marks\n",
    "        self.name = name\n",
    "        \n",
    "    def display(self):\n",
    "        print(self.marks)\n",
    "        print(self.name)\n",
    "```\n",
    "\n",
    "Напишите команду для создания объекта класса `Yourclass`.\n",
    "\n",
    "**Решение**"
   ]
  },
  {
   "cell_type": "code",
   "execution_count": 30,
   "id": "680410b8",
   "metadata": {},
   "outputs": [
    {
     "data": {
      "text/plain": [
       "<__main__.Yourclass at 0x1986880dd00>"
      ]
     },
     "execution_count": 30,
     "metadata": {},
     "output_type": "execute_result"
    }
   ],
   "source": [
    "class Yourclass:\n",
    "    marks = 10\n",
    "    name = \"ABC\"\n",
    "\n",
    "    def __init__(self, marks, name):\n",
    "        self.marks = marks\n",
    "        self.name = name\n",
    "\n",
    "    def display(self):\n",
    "        print(self.marks)\n",
    "        print(self.name)\n",
    "        \n",
    "        \n",
    "inst = Yourclass(5, \"Владимир\")\n",
    "inst"
   ]
  },
  {
   "cell_type": "markdown",
   "id": "3f3b73dd",
   "metadata": {},
   "source": [
    "## Задание 2\n",
    "\n",
    "Напишите класс с именем `Rectangle`, состоящий из длины и ширины, и метода, который будет вычислять площать прямоугольника.\n",
    "\n",
    "**Решение**"
   ]
  },
  {
   "cell_type": "code",
   "execution_count": 3,
   "id": "7a5c049b",
   "metadata": {},
   "outputs": [
    {
     "name": "stdout",
     "output_type": "stream",
     "text": [
      "Площадь прямоугольника: 50\n"
     ]
    }
   ],
   "source": [
    "class Rectangle:\n",
    "    def __init__(self, width, height):\n",
    "        self.width = width\n",
    "        self.height = height\n",
    "        \n",
    "    def area(self):\n",
    "        return self.width * self.height\n",
    "    \n",
    "    def __repr__(self):\n",
    "        return f\"{self.__class__.__name__}({self.width}, {self.height})\"\n",
    "    \n",
    "    \n",
    "rect = Rectangle(10, 5)\n",
    "print(f\"Площадь прямоугольника: {rect.area()}\")"
   ]
  },
  {
   "cell_type": "markdown",
   "id": "110ce536",
   "metadata": {},
   "source": [
    "## Задание 3\n",
    "\n",
    "Напишите класс, который имеет два метода `get_string()` и `print_string()`. Метод `get_string()` принимает строку от пользователя, а `print_string()` выводит строку в верхнем регистре.\n",
    "\n",
    "**Решение**"
   ]
  },
  {
   "cell_type": "code",
   "execution_count": 16,
   "id": "2e3a84e6",
   "metadata": {},
   "outputs": [
    {
     "name": "stdout",
     "output_type": "stream",
     "text": [
      "Введите любую строку: hello world\n",
      "HELLO WORLD\n"
     ]
    }
   ],
   "source": [
    "class Stringer:\n",
    "    def __init__(self):\n",
    "        self._str = \"\"\n",
    "        \n",
    "    def get_string(self):\n",
    "        self._str = input(\"Введите любую строку: \")\n",
    "        \n",
    "    def print_string(self):\n",
    "        print(self._str.upper())\n",
    "        \n",
    "        \n",
    "stringer = Stringer()\n",
    "stringer.get_string()\n",
    "stringer.print_string()"
   ]
  },
  {
   "cell_type": "markdown",
   "id": "24a7618d",
   "metadata": {},
   "source": [
    "## Задание 4\n",
    "\n",
    "Напишите класс, который меняет порядок слов в строке. Строка `\"hello world\"` превращается в `\"world hello\"`.\n",
    "\n",
    "**Решение**"
   ]
  },
  {
   "cell_type": "code",
   "execution_count": 5,
   "id": "33ecae08",
   "metadata": {},
   "outputs": [
    {
     "name": "stdout",
     "output_type": "stream",
     "text": [
      "Строка 'hello world' в обратном порядке 'world hello'\n"
     ]
    }
   ],
   "source": [
    "class Reverser:\n",
    "    def reverse_words(self, str_: str):\n",
    "        return \" \".join(list(reversed(str_.split())))\n",
    "    \n",
    "    \n",
    "reverser = Reverser()\n",
    "str_ = \"hello world\"\n",
    "reversed_str = reverser.reverse_words(str_)\n",
    "\n",
    "print(f\"Строка {str_!r} в обратном порядке {reversed_str!r}\")"
   ]
  },
  {
   "cell_type": "markdown",
   "id": "4902a19f",
   "metadata": {},
   "source": [
    "## Задание 5\n",
    "\n",
    "Напишите класс для преобразования целого числа в римские цифры.\n",
    "\n",
    "**Решение**"
   ]
  },
  {
   "cell_type": "code",
   "execution_count": 6,
   "id": "8007c029",
   "metadata": {},
   "outputs": [
    {
     "name": "stdout",
     "output_type": "stream",
     "text": [
      "I   II   III   IV   V   VI   VII   VIII   IX   X   XI   XII   XIII   XIV   XV   XVI   XVII   XVIII   XIX   XX   XXI   XXII   XXIII   XXIV   XXV   XXVI   XXVII   XXVIII   XXIX   XXX   XXXI   XXXII   XXXIII   XXXIV   XXXV   XXXVI   XXXVII   XXXVIII   XXXIX   XL   XLI   XLII   XLIII   XLIV   XLV   XLVI   XLVII   XLVIII   XLIX   L   LI   LII   LIII   LIV   LV   LVI   LVII   LVIII   LIX   LX   LXI   LXII   LXIII   LXIV   LXV   LXVI   LXVII   LXVIII   LXIX   LXX   LXXI   LXXII   LXXIII   LXXIV   LXXV   LXXVI   LXXVII   LXXVIII   LXXIX   LXXX   LXXXI   LXXXII   LXXXIII   LXXXIV   LXXXV   LXXXVI   LXXXVII   LXXXVIII   LXXXIX   XC   XCI   XCII   XCIII   XCIV   XCV   XCVI   XCVII   XCVIII   XCIX   C   "
     ]
    }
   ],
   "source": [
    "class RomanDigit:\n",
    "    @staticmethod\n",
    "    def arabic_to_roman_1_100(num: int) -> str:\n",
    "        if num < 1 or num > 100:\n",
    "            raise ValueError(f\"число {num} должно быть в диапазоне от 1 до 100 включительно\")\n",
    "\n",
    "        # единицы\n",
    "        digit_num_1 = [\"I\", \"II\", \"III\", \"IV\", \"V\", \"VI\", \"VII\", \"VIII\", \"IX\"]\n",
    "        # десятки\n",
    "        digit_num_10 = [\"X\", \"XX\", \"XXX\", \"XL\", \"L\", \"LX\", \"LXX\", \"LXXX\", \"XC\"]\n",
    "        # сотни\n",
    "        digit_num_100 = [\"C\"]\n",
    "\n",
    "        romans = {1: digit_num_1, 10: digit_num_10, 100: digit_num_100}\n",
    "\n",
    "        roman = \"\"\n",
    "        i = 1\n",
    "        while num:\n",
    "            digit, num = num % 10, num // 10\n",
    "\n",
    "            if digit > 0:\n",
    "                roman = romans[i][digit - 1] + roman\n",
    "\n",
    "            i *= 10\n",
    "\n",
    "        return roman\n",
    "    \n",
    "\n",
    "for i in range(1, 101):\n",
    "    print(RomanDigit.arabic_to_roman_1_100(i), end=\" \" * 3)"
   ]
  },
  {
   "cell_type": "markdown",
   "id": "2ffe792c",
   "metadata": {},
   "source": [
    "## Задание 6\n",
    "\n",
    "Определите класс с именем `Shape` (фигура) и его дочерний класс `Square` (квадрат). Класс `Square` имеет метод инициализации, который принимает в качестве аргумента сторону квадрата. Оба класса имеют метод вычисления площади, который может выводить площадь на экран. Площадь фигуры `Shape` по умолчанию равна 0.\n",
    "\n",
    "**Решение**"
   ]
  },
  {
   "cell_type": "code",
   "execution_count": 8,
   "id": "7d62ae0b",
   "metadata": {},
   "outputs": [
    {
     "name": "stdout",
     "output_type": "stream",
     "text": [
      "Площадь квадрата: 25\n"
     ]
    }
   ],
   "source": [
    "import abc\n",
    "\n",
    "\n",
    "class Shape(abc.ABC):\n",
    "    @abc.abstractmethod\n",
    "    def area(self):\n",
    "        pass\n",
    "    \n",
    "    \n",
    "class Square(Shape):\n",
    "    def __init__(self, width):\n",
    "        self.width = width\n",
    "        \n",
    "    def area(self):\n",
    "        return self.width ** 2\n",
    "    \n",
    "    def __repr__(self):\n",
    "        return f\"{self.__class__.__name__}({self.width})\"\n",
    "    \n",
    "    \n",
    "square = Square(5)\n",
    "print(f\"Площадь квадрата: {square.area()}\")"
   ]
  },
  {
   "cell_type": "markdown",
   "id": "08aa8d9f",
   "metadata": {},
   "source": [
    "## Задание 7\n",
    "\n",
    "Определите класс `Student` с заданными характеристиками.\n",
    "\n",
    "Атрибуты экземпляра:\n",
    "\n",
    "* номер курса;\n",
    "* имя.\n",
    "\n",
    "Методы:\n",
    "\n",
    "* `getdata()` - для получения номера курса и имени;\n",
    "* `printdata()` - для вывода номера курса и имени.\n",
    "\n",
    "**Решение**"
   ]
  },
  {
   "cell_type": "code",
   "execution_count": 17,
   "id": "c576cb97",
   "metadata": {},
   "outputs": [
    {
     "name": "stdout",
     "output_type": "stream",
     "text": [
      "Студент Вася учится на 3 курсе\n"
     ]
    }
   ],
   "source": [
    "class Student:\n",
    "    def __init__(self):\n",
    "        self._name = \"\"\n",
    "        self._course_num = 1\n",
    "        \n",
    "    def getdata(self, name: str, course_num: int):\n",
    "        self._name, self._course_num = name, course_num\n",
    "    \n",
    "    def printdata(self):\n",
    "        print(f\"Студент {self._name} учится на {self._course_num} курсе\")\n",
    "        \n",
    "        \n",
    "vasya = Student()\n",
    "vasya.getdata(\"Вася\", 3)\n",
    "vasya.printdata()"
   ]
  },
  {
   "cell_type": "markdown",
   "id": "137736b5",
   "metadata": {},
   "source": [
    "## Задание 8\n",
    "\n",
    "Определите класс `Marks`, производный от класса `Student`.\n",
    "\n",
    "Переменная экземпляра:\n",
    "\n",
    "* Оценки по пяти предметам.\n",
    "\n",
    "Методы:\n",
    "\n",
    "* `inputdata()` - вызов `getdata()` и ввод 5 оценок;\n",
    "* `outdata()` - вызов `printdata()` и отображение 5 оценок.\n",
    "\n",
    "Реализуйте классы на Python.\n",
    "\n",
    "**Решение**"
   ]
  },
  {
   "cell_type": "code",
   "execution_count": 18,
   "id": "81016be8",
   "metadata": {},
   "outputs": [
    {
     "name": "stdout",
     "output_type": "stream",
     "text": [
      "Введите имя студента: Петя\n",
      "Введите номер курса студента: 2\n",
      "Введите 5 оценок студента через пробел: 3 4 4 5 5\n",
      "\n",
      "Студент Петя учится на 2 курсе\n",
      "И имеет оценки: 3, 4, 4, 5, 5\n"
     ]
    }
   ],
   "source": [
    "class Marks(Student):\n",
    "    def __init__(self):\n",
    "        super().__init__()\n",
    "        \n",
    "        self._marks = []\n",
    "        \n",
    "    def inputdata(self):\n",
    "        super().getdata(\n",
    "            input(\"Введите имя студента: \"),\n",
    "            int(input(\"Введите номер курса студента: \"))\n",
    "        )\n",
    "        self._marks = input(\"Введите 5 оценок студента через пробел: \").split()\n",
    "        \n",
    "    def outdata(self):\n",
    "        super().printdata()\n",
    "        print(\"И имеет оценки: {}\".format(\", \".join(self._marks)))\n",
    "\n",
    "\n",
    "marks = Marks()\n",
    "marks.inputdata()\n",
    "print()\n",
    "marks.outdata()"
   ]
  },
  {
   "cell_type": "markdown",
   "id": "620c9cc6",
   "metadata": {},
   "source": [
    "## Задание 9\n",
    "\n",
    "Гостиница `XYZ` предлагает проживание, питание.\n",
    "\n",
    "* Создайте класс `Accomodation` с номером комнаты, типом комнаты, ценой аренды и т.д.\n",
    "* Создайте класс `Meal`, содержащий код обеда, название, цену и т.д.\n",
    "* Создайте класс `Customer`, содержащий номер клиента, его имя, адрес и т.д.\n",
    "* Класс `Customer` должен наследоваться от `Accomodation` и `Meal`.\n",
    "\n",
    "**Решение**"
   ]
  },
  {
   "cell_type": "code",
   "execution_count": 29,
   "id": "b1acb509",
   "metadata": {},
   "outputs": [
    {
     "name": "stdout",
     "output_type": "stream",
     "text": [
      "Клиент 123 Вася г. Калуга\n",
      "Комната 1 A 1000\n",
      "Обед dean123 Обед 200.5\n"
     ]
    }
   ],
   "source": [
    "class Accomodation:\n",
    "    def __init__(self, room_num: str, room_type: str, price: float):\n",
    "        self.room_num = room_num\n",
    "        self.room_type = room_type\n",
    "        self.room_price = price\n",
    "        \n",
    "        \n",
    "class Meal:\n",
    "    def __init__(self, dean_code: str, name: str, price: float):\n",
    "        self.dean_code = dean_code\n",
    "        self.dean_name = name\n",
    "        self.dean_price = price\n",
    "        \n",
    "        \n",
    "class Customer(Accomodation, Meal):\n",
    "    def __init__(self, client_num: str, name: str, address: str, \n",
    "                 room_num: str, room_type: str, room_price: float,\n",
    "                 dean_code: str, dean_name: str, dean_price: float):\n",
    "        self.client_num = client_num\n",
    "        self.name = name\n",
    "        self.address = address\n",
    "        \n",
    "        super(Customer, self).__init__(room_num, room_type, room_price)\n",
    "        super(Accomodation, self).__init__(dean_code, dean_name, dean_price)\n",
    "        \n",
    "        \n",
    "cust = Customer(\"123\", \"Вася\", \"г. Калуга\", \"1\", \"A\", 1000, \"dean123\", \"Обед\", 200.50)\n",
    "print(\"Клиент\", cust.client_num, cust.name, cust.address)\n",
    "print(\"Комната\", cust.room_num, cust.room_type, cust.room_price)\n",
    "print(\"Обед\", cust.dean_code, cust.dean_name, cust.dean_price)"
   ]
  }
 ],
 "metadata": {
  "kernelspec": {
   "display_name": "Python 3 (ipykernel)",
   "language": "python",
   "name": "python3"
  },
  "language_info": {
   "codemirror_mode": {
    "name": "ipython",
    "version": 3
   },
   "file_extension": ".py",
   "mimetype": "text/x-python",
   "name": "python",
   "nbconvert_exporter": "python",
   "pygments_lexer": "ipython3",
   "version": "3.8.10"
  }
 },
 "nbformat": 4,
 "nbformat_minor": 5
}
