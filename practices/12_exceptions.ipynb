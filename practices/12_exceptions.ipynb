{
 "cells": [
  {
   "cell_type": "markdown",
   "id": "876faa7c",
   "metadata": {},
   "source": [
    "# Практические задания главы 12 «Ошибки и обработка исключений»"
   ]
  },
  {
   "cell_type": "markdown",
   "id": "f7f5f7b5",
   "metadata": {},
   "source": [
    "## Задание 1\n",
    "\n",
    "Напишите функцию с именем `oops()`, которая явно вызывает исключение `IndexError` при вызове. Затем напишите другую функцию, которая вызывает `oops()` внутри конструкции `try-except` и перехватывает ошибку. Что произойдет, если в функции `oops()` вместо `IndexError` будет вызываться `KeyError`.\n",
    "\n",
    "**Решение**"
   ]
  },
  {
   "cell_type": "code",
   "execution_count": 1,
   "id": "40721ac5",
   "metadata": {},
   "outputs": [
    {
     "name": "stdout",
     "output_type": "stream",
     "text": [
      "good\n"
     ]
    }
   ],
   "source": [
    "def oops():\n",
    "    raise IndexError\n",
    "    \n",
    "    \n",
    "def good():\n",
    "    try:\n",
    "        oops()\n",
    "    except IndexError:\n",
    "        print(\"good\")\n",
    "        \n",
    "        \n",
    "good()"
   ]
  },
  {
   "cell_type": "markdown",
   "id": "e5699ffc",
   "metadata": {},
   "source": [
    "## Задание 2\n",
    "\n",
    "Напишите функцию нахождения среднего значения списка чисел. Ваша функция должна иметь возможность обрабатывать пустой список, а также список, содержащий строку.\n",
    "\n",
    "**Решение**"
   ]
  },
  {
   "cell_type": "code",
   "execution_count": 2,
   "id": "6d33135a",
   "metadata": {},
   "outputs": [
    {
     "name": "stdout",
     "output_type": "stream",
     "text": [
      "Исключение при пустом списке обработано\n",
      "Среднее значени для списка [1, 2, 3.4, 5.6, '7.8', '9']: 4.8\n"
     ]
    }
   ],
   "source": [
    "from typing import List, Union\n",
    "\n",
    "\n",
    "def avg(iterable: List[Union[int, float, str]]) -> float:\n",
    "    if not iterable:\n",
    "        raise ValueError(\"для вычисления среднего значения нужно хотя бы одно число\")\n",
    "        \n",
    "    sum_: float = 0\n",
    "    for item in iterable:\n",
    "        if isinstance(item, str):\n",
    "            try:\n",
    "                sum_ += int(item)\n",
    "            except ValueError:\n",
    "                sum_ += float(item)\n",
    "        else:\n",
    "            sum_ += item\n",
    "            \n",
    "    return sum_ / len(iterable)\n",
    "\n",
    "\n",
    "try:\n",
    "    avg([])\n",
    "except ValueError:\n",
    "    print(\"Исключение при пустом списке обработано\")\n",
    "    \n",
    "lst = [1, 2, 3.4, 5.6, \"7.8\", \"9\"]\n",
    "result = avg(lst)\n",
    "print(f\"Среднее значени для списка {lst}: {result}\")"
   ]
  },
  {
   "cell_type": "markdown",
   "id": "dd1236d5",
   "metadata": {},
   "source": [
    "## Задание 3\n",
    "\n",
    "Напишите программу, принимающую дату от пользователя в виде дня, месяца и года и вызывающую соответствующие ошибки, если передано недопустимое значение. Выводите сообщения об ошибке, пока пользователь не введет правильные значения.\n",
    "\n",
    "**Решение**"
   ]
  },
  {
   "cell_type": "code",
   "execution_count": 13,
   "id": "aed5f5f7",
   "metadata": {},
   "outputs": [
    {
     "name": "stdout",
     "output_type": "stream",
     "text": [
      "Введите год: -1\n",
      "Год не может быть отрицательным\n",
      "Введите год: 2022\n",
      "Введите месяц: -1\n",
      "Месяц не может быть отрицательным или равным нулю\n",
      "Введите месяц: 0\n",
      "Месяц не может быть отрицательным или равным нулю\n",
      "Введите месяц: 14\n",
      "Месяц должен быть в диапазоне 1-12\n",
      "Введите месяц: 9\n",
      "Введите день: -1\n",
      "День не может быть отрицательным или равным нулю\n",
      "Введите день: 0\n",
      "День не может быть отрицательным или равным нулю\n",
      "Введите день: 32\n",
      "Для месяца 9 день должен быть в диапазоне 1-30\n",
      "Введите день: 6\n",
      "Дата: 06.09.2022\n"
     ]
    }
   ],
   "source": [
    "def get_year():\n",
    "    year = int(input(\"Введите год: \"))\n",
    "    if year < 0:\n",
    "        raise ValueError(\"Год не может быть отрицательным\")\n",
    "    return year\n",
    "        \n",
    "\n",
    "def get_month():\n",
    "    month = int(input(\"Введите месяц: \"))\n",
    "    if month <= 0:\n",
    "        raise ValueError(\"Месяц не может быть отрицательным или равным нулю\")\n",
    "    if month > 12:\n",
    "        raise ValueError(\"Месяц должен быть в диапазоне 1-12\")\n",
    "    return month\n",
    "    \n",
    "    \n",
    "def get_day(month: int):\n",
    "    day = int(input(\"Введите день: \"))\n",
    "    if day <= 0:\n",
    "        raise ValueError(\"День не может быть отрицательным или равным нулю\")\n",
    "    if month not in range(1, 13):\n",
    "        raise ValueError(f\"Неизвестный месяц {month}\")\n",
    "    if month in [1, 3, 5, 7, 8, 10, 12] and day > 31:\n",
    "        raise ValueError(f\"Для месяца {month} день должен быть в диапазоне 1-31\")\n",
    "    elif month in [4, 6, 9, 11] and day > 30:\n",
    "        raise ValueError(f\"Для месяца {month} день должен быть в диапазоне 1-30\")\n",
    "    elif month == 2 and day > 28:\n",
    "        raise ValueError(f\"Для месяца 2 день должен быть в диапазоне 1-28\")\n",
    "    return day\n",
    "\n",
    "\n",
    "def main():\n",
    "    year, month, day = None, None, None\n",
    "    while not year or not month or not day:\n",
    "        if not year:\n",
    "            try:\n",
    "                year = get_year()\n",
    "            except ValueError as ex:\n",
    "                print(ex)\n",
    "                continue\n",
    "            \n",
    "        if not month:\n",
    "            try:\n",
    "                month = get_month()\n",
    "            except ValueError as ex:\n",
    "                print(ex)\n",
    "                continue\n",
    "            \n",
    "        if not day:\n",
    "            try:\n",
    "                day = get_day(month)\n",
    "            except ValueError as ex:\n",
    "                print(ex)\n",
    "                continue\n",
    "            \n",
    "    print(f\"Дата: {day:02}.{month:02}.{year:04}\")\n",
    "    \n",
    "    \n",
    "main()        "
   ]
  },
  {
   "cell_type": "markdown",
   "id": "4ad402e8",
   "metadata": {},
   "source": [
    "## Задание 4\n",
    "\n",
    "Создайте класс `Person` для хранения личной информации (по вашему выбору) о человеке. Убедитесь, что ввод некорректных данных обрабатывается должным образом.\n",
    "\n",
    "**Решение**"
   ]
  },
  {
   "cell_type": "code",
   "execution_count": 15,
   "id": "a2795956",
   "metadata": {},
   "outputs": [
    {
     "name": "stdout",
     "output_type": "stream",
     "text": [
      "Имя должно быть строкой\n",
      "Имя не может быть пустым\n",
      "Возраст должен быть целым числом\n",
      "Имя: Владимир, возраст: 31\n",
      "Person('Владимир', 31)\n"
     ]
    }
   ],
   "source": [
    "class Person:\n",
    "    def __init__(self, name: str, age: int):\n",
    "        if not isinstance(name, str):\n",
    "            raise TypeError(\"Имя должно быть строкой\")\n",
    "        elif not name:\n",
    "            raise ValueError(\"Имя не может быть пустым\")\n",
    "        self.name = name\n",
    "        \n",
    "        if not isinstance(age, int):\n",
    "            raise TypeError(\"Возраст должен быть целым числом\")\n",
    "        self.age = age\n",
    "        \n",
    "    def __str__(self):\n",
    "        return f\"Имя: {self.name}, возраст: {self.age}\"\n",
    "    \n",
    "    def __repr__(self):\n",
    "        return f\"{self.__class__.__name__}({self.name!r}, {self.age})\"\n",
    "        \n",
    "        \n",
    "def main():\n",
    "    try:\n",
    "        person = Person(name=123, age=31)\n",
    "    except TypeError as ex:\n",
    "        print(ex)\n",
    "        \n",
    "    try:\n",
    "        person = Person(name=\"\", age=31)\n",
    "    except ValueError as ex:\n",
    "        print(ex)\n",
    "        \n",
    "    try:\n",
    "        person = Person(name=\"Владимир\", age=\"31\")\n",
    "    except TypeError as ex:\n",
    "        print(ex)\n",
    "        \n",
    "    person = Person(name=\"Владимир\", age=31)\n",
    "    print(person)\n",
    "    print(f\"{person!r}\")\n",
    "\n",
    "\n",
    "main()"
   ]
  }
 ],
 "metadata": {
  "kernelspec": {
   "display_name": "Python 3 (ipykernel)",
   "language": "python",
   "name": "python3"
  },
  "language_info": {
   "codemirror_mode": {
    "name": "ipython",
    "version": 3
   },
   "file_extension": ".py",
   "mimetype": "text/x-python",
   "name": "python",
   "nbconvert_exporter": "python",
   "pygments_lexer": "ipython3",
   "version": "3.8.10"
  }
 },
 "nbformat": 4,
 "nbformat_minor": 5
}
