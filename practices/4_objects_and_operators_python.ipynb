{
 "cells": [
  {
   "cell_type": "markdown",
   "id": "d86cbadc",
   "metadata": {},
   "source": [
    "# Практические задания главы 4 «Объекты и операторы в Python»"
   ]
  },
  {
   "cell_type": "markdown",
   "id": "df7b1905",
   "metadata": {},
   "source": [
    "## Задание 1\n",
    "\n",
    "Питер получает зарплату 12 000 в месяц. Напишите код для вычисления его сбережений к концу года, если он будет откладывать 20% своей зарплаты каждый месяц.\n",
    "\n",
    "**Решение**"
   ]
  },
  {
   "cell_type": "code",
   "execution_count": 34,
   "id": "9aba8faa",
   "metadata": {},
   "outputs": [
    {
     "name": "stdout",
     "output_type": "stream",
     "text": [
      "28800.0\n"
     ]
    }
   ],
   "source": [
    "salary = 12_000\n",
    "saving_percents_per_month = 20\n",
    "months_in_year = 12\n",
    "\n",
    "saving_total = salary * saving_percents_per_month * 0.01 * months_in_year\n",
    "print(saving_total)"
   ]
  },
  {
   "cell_type": "markdown",
   "id": "acdd4e98",
   "metadata": {},
   "source": [
    "## Задание 2\n",
    "\n",
    "Расстояние между Мумбаи и Дели составляет 1422 км. Если Сундар едет на машине со средней скоростью 72 км/ч, сколько времени ему потребуется, чтобы преодолеть это расстояние.\n",
    "\n",
    "**Решение**"
   ]
  },
  {
   "cell_type": "code",
   "execution_count": 35,
   "id": "03fe5091",
   "metadata": {},
   "outputs": [
    {
     "name": "stdout",
     "output_type": "stream",
     "text": [
      "19.75\n"
     ]
    }
   ],
   "source": [
    "l = 1_422  # км \n",
    "v = 72  # км/ч\n",
    "\n",
    "t = l / v\n",
    "print(t)"
   ]
  },
  {
   "cell_type": "markdown",
   "id": "1013d367",
   "metadata": {},
   "source": [
    "## Задание 3\n",
    "\n",
    "Температура тела человека находится в диапазоне от 97 до 99 градусов по Фаренгейту. Как этот диапазон будет выглядеть в градусах Цельсия.\n",
    "\n",
    "**Решение**"
   ]
  },
  {
   "cell_type": "code",
   "execution_count": 8,
   "id": "269fc9cf",
   "metadata": {},
   "outputs": [
    {
     "name": "stdout",
     "output_type": "stream",
     "text": [
      "(36.111111111111114, 37.22222222222222)\n"
     ]
    }
   ],
   "source": [
    "def fahrenheit_to_celsius(degree):\n",
    "    return (degree - 32) * (5 / 9)\n",
    "\n",
    "human_degree_range_fahrenheit = (97, 99)\n",
    "human_degree_range_celsius = ()\n",
    "\n",
    "for degree in human_degree_range_fahrenheit:\n",
    "    human_degree_range_celsius += (fahrenheit_to_celsius(degree),)\n",
    "    \n",
    "print(human_degree_range_celsius)"
   ]
  },
  {
   "cell_type": "markdown",
   "id": "0ca9fab5",
   "metadata": {},
   "source": [
    "## Задание 4\n",
    "\n",
    "Пусть дано шестизначное число. Напишите программу для вычисления суммы всех цифр этого числа.\n",
    "\n",
    "**Решение**"
   ]
  },
  {
   "cell_type": "code",
   "execution_count": 36,
   "id": "d385b4df",
   "metadata": {},
   "outputs": [
    {
     "name": "stdout",
     "output_type": "stream",
     "text": [
      "21\n"
     ]
    }
   ],
   "source": [
    "number = 123456\n",
    "digits_sum = sum(int(x) for x in str(number))\n",
    "print(digits_sum)"
   ]
  },
  {
   "cell_type": "markdown",
   "id": "e418f8b6",
   "metadata": {},
   "source": [
    "## Задание 5\n",
    "\n",
    "У нас есть данные о месячных продажах 5-ти книжных магазинов в Бруклине:\n",
    "\n",
    "A = 6500, B = 8000, C = 12 000, D = 4900 и E = 5600.\n",
    "\n",
    "Предполагая, что в Бруклине всего 5 книжных магазинов, узнайте рыночную долю каждого магазина. Также проверьте, какой будет сумма рыночных долей всех магазинов. (Рыночная доля означает отношение одного участника ко всем остальным.)\n",
    "\n",
    "**Решение**"
   ]
  },
  {
   "cell_type": "code",
   "execution_count": 19,
   "id": "16eb695c",
   "metadata": {},
   "outputs": [
    {
     "name": "stdout",
     "output_type": "stream",
     "text": [
      "A market share is 0.21311475409836064\n",
      "B market share is 0.27586206896551724\n",
      "C market share is 0.48\n",
      "D market share is 0.1526479750778816\n",
      "E market share is 0.17834394904458598\n",
      "market shares sum is 1.2999687471863455\n"
     ]
    }
   ],
   "source": [
    "def calc_market_share(concrete, others):\n",
    "    return concrete / sum(others)\n",
    "    \n",
    "markets = dict(zip(\"ABCDE\", [6_500, 8_000, 12_000, 4_900, 5_600]))\n",
    "market_shares = {k: calc_market_share(v, [val for key, val in markets.items() if key != k]) for k, v in markets.items()}\n",
    "\n",
    "for k, v in market_shares.items():\n",
    "    print(f\"{k} market share is {v}\")\n",
    "    \n",
    "market_shares_sum = sum(v for v in market_shares.values())\n",
    "print(f\"market shares sum is {market_shares_sum}\")"
   ]
  },
  {
   "cell_type": "markdown",
   "id": "3921bdd4",
   "metadata": {},
   "source": [
    "## Задание 6\n",
    "\n",
    "Среднее значение 3-х чисел равно 45. Первое число больше среднего значения настолько же, насколько второе число меньше среднего значения. Найдите третье число.\n",
    "\n",
    "**Решение**"
   ]
  },
  {
   "cell_type": "code",
   "execution_count": 22,
   "id": "d790f5fd",
   "metadata": {},
   "outputs": [
    {
     "name": "stdout",
     "output_type": "stream",
     "text": [
      "(46, 44, 45)\n"
     ]
    }
   ],
   "source": [
    "def find_numbers(agv):\n",
    "    num_sum = agv * 3\n",
    "    \n",
    "    for x in range(num_sum + 1):\n",
    "        for y in range(num_sum + 1):\n",
    "            for z in range(num_sum + 1):\n",
    "                if x > agv and y < agv and x - agv == agv - y and (x + y + z) // 3 == agv:\n",
    "                    return x, y, z\n",
    "    else:\n",
    "        return (None,) * 3\n",
    "    \n",
    "print(find_numbers(45))"
   ]
  },
  {
   "cell_type": "markdown",
   "id": "2592ae05",
   "metadata": {},
   "source": [
    "## Задание 7\n",
    "\n",
    "Джон покупает мобильный телефон за 1800 в Калькутте и продает его в Мумбаи с прибылью 25%. Если его накладные расходы составляют 5% от цены продажи, то какова цена продажи?\n",
    "\n",
    "**Решение**"
   ]
  },
  {
   "cell_type": "code",
   "execution_count": 28,
   "id": "88ccb641",
   "metadata": {},
   "outputs": [
    {
     "name": "stdout",
     "output_type": "stream",
     "text": [
      "2368.421052631579\n"
     ]
    }
   ],
   "source": [
    "buy_price = 1_800\n",
    "sale_profit = 25 * 0.01\n",
    "sale_costs = 5 * 0.01\n",
    "\n",
    "sale_price = (buy_price + buy_price * sale_profit) / (1 - sale_costs)\n",
    "print(sale_price)"
   ]
  },
  {
   "cell_type": "markdown",
   "id": "fd396405",
   "metadata": {},
   "source": [
    "## Задание 8\n",
    "\n",
    "Найдите объем и площадь куба с диагональю 5 м.\n",
    "\n",
    "Подсказка: $V = \\frac{d^3}{3\\sqrt{3}}$, $S = 2d^2$\n",
    "\n",
    "**Решение**"
   ]
  },
  {
   "cell_type": "code",
   "execution_count": 30,
   "id": "6bb99ed2",
   "metadata": {},
   "outputs": [
    {
     "name": "stdout",
     "output_type": "stream",
     "text": [
      "V = 24.056261216234407\n",
      "S = 50\n"
     ]
    }
   ],
   "source": [
    "d = 5  # метров\n",
    "\n",
    "v = d ** 3 / (3 * 3 ** 0.5)\n",
    "s = 2 * d ** 2\n",
    "\n",
    "print(f\"V = {v}\")\n",
    "print(f\"S = {s}\")"
   ]
  },
  {
   "cell_type": "markdown",
   "id": "af55ecdd",
   "metadata": {},
   "source": [
    "## Задание 9\n",
    "\n",
    "Три металлических куба с ребрами длиной 3, 4 и 5 см соответственно переплавляются в один куб. Найдите длину ребра нового куба.\n",
    "\n",
    "**Решение**"
   ]
  },
  {
   "cell_type": "code",
   "execution_count": 31,
   "id": "b9d20b0e",
   "metadata": {},
   "outputs": [
    {
     "name": "stdout",
     "output_type": "stream",
     "text": [
      "5.999999999999999\n"
     ]
    }
   ],
   "source": [
    "a1 = 3\n",
    "a2 = 4\n",
    "a3 = 5\n",
    "\n",
    "a_new = (a1 ** 3 + a2 ** 3 + a3 ** 3) ** (1 / 3)\n",
    "print(a_new)"
   ]
  },
  {
   "cell_type": "markdown",
   "id": "5b3cc7c8",
   "metadata": {},
   "source": [
    "## Задание 10\n",
    "\n",
    "Дано шестизначное число. Напишите программу для получения числа с обратным порядком цифр.\n",
    "\n",
    "**Решение**"
   ]
  },
  {
   "cell_type": "code",
   "execution_count": 33,
   "id": "6ef4d26b",
   "metadata": {},
   "outputs": [
    {
     "name": "stdout",
     "output_type": "stream",
     "text": [
      "654321\n"
     ]
    }
   ],
   "source": [
    "x = 123456\n",
    "x_reversed = int(\"\".join(reversed(str(x))))\n",
    "\n",
    "print(x_reversed)"
   ]
  }
 ],
 "metadata": {
  "kernelspec": {
   "display_name": "Python 3 (ipykernel)",
   "language": "python",
   "name": "python3"
  },
  "language_info": {
   "codemirror_mode": {
    "name": "ipython",
    "version": 3
   },
   "file_extension": ".py",
   "mimetype": "text/x-python",
   "name": "python",
   "nbconvert_exporter": "python",
   "pygments_lexer": "ipython3",
   "version": "3.8.10"
  }
 },
 "nbformat": 4,
 "nbformat_minor": 5
}
