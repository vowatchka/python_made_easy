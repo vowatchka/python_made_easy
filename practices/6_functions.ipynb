{
 "cells": [
  {
   "cell_type": "markdown",
   "id": "1962e5dc",
   "metadata": {},
   "source": [
    "# Задание 1\n",
    "\n",
    "Напишите функцию, которая проверяет, является ли год високосным.\n",
    "\n",
    "**Решение**"
   ]
  },
  {
   "cell_type": "code",
   "execution_count": 1,
   "id": "ac52bec5",
   "metadata": {},
   "outputs": [
    {
     "name": "stdout",
     "output_type": "stream",
     "text": [
      "Год 2022 не високосный\n",
      "Год 1000 не високосный\n",
      "Год 1657 не високосный\n",
      "Год 1917 не високосный\n",
      "Год 2021 не високосный\n",
      "Год 2020 високосный\n"
     ]
    }
   ],
   "source": [
    "def is_leap_year(year: int) -> bool:\n",
    "    return (year % 4 == 0) and (year % 100 != 0) or (year % 400 == 0)\n",
    "\n",
    "years = [2022, 1000, 1657, 1917, 2021, 2020]\n",
    "for year in years:\n",
    "    print(f\"Год {year} {'високосный' if is_leap_year(year) else 'не високосный'}\")"
   ]
  },
  {
   "cell_type": "markdown",
   "id": "2403cbd5",
   "metadata": {},
   "source": [
    "# Задание 2\n",
    "\n",
    "Напишите функцию `f(x)`, вовзращающую простые множители любого числа `x` (пример простых множителей: `36` - `[2 2 3 3]`, `30` - `[2 3 5]`).\n",
    "\n",
    "**Решение**"
   ]
  },
  {
   "cell_type": "code",
   "execution_count": 3,
   "id": "a904f47a",
   "metadata": {},
   "outputs": [
    {
     "name": "stdout",
     "output_type": "stream",
     "text": [
      "[2, 2, 3, 3]\n",
      "[2, 3, 5]\n",
      "[3, 3, 7]\n"
     ]
    }
   ],
   "source": [
    "def f(x: int) -> list:\n",
    "    factors = []\n",
    "    d = 2\n",
    "    \n",
    "    while d * d <= x:\n",
    "        if x % d == 0:\n",
    "            factors.append(d)\n",
    "            x //= d\n",
    "        else:\n",
    "            d += 1\n",
    "    \n",
    "    if x > 1:\n",
    "        factors.append(x)\n",
    "    \n",
    "    return factors\n",
    "\n",
    "print(f(36))\n",
    "print(f(30))\n",
    "print(f(63))"
   ]
  },
  {
   "cell_type": "markdown",
   "id": "b222d1b7",
   "metadata": {},
   "source": [
    "# Задание 3\n",
    "\n",
    "Напишите функцию для преобразования температуры из градусов Цельсия в градусы Фаренгейта. Напишите еще одну функцию для обратного преобразования.\n",
    "\n",
    "**Решение**"
   ]
  },
  {
   "cell_type": "code",
   "execution_count": 6,
   "id": "2e0d8b96",
   "metadata": {},
   "outputs": [
    {
     "name": "stdout",
     "output_type": "stream",
     "text": [
      "0 °C = 32.0 °F\n",
      "0 °F = -17.78 °C\n"
     ]
    }
   ],
   "source": [
    "from functools import wraps\n",
    "\n",
    "\n",
    "def rounder(func):\n",
    "    @wraps(func)\n",
    "    def wrapper(degree, round_to=None):\n",
    "        result = func(degree)\n",
    "        \n",
    "        if isinstance(round_to, int):\n",
    "            return round(result, round_to)\n",
    "        return result\n",
    "    return wrapper\n",
    "\n",
    "\n",
    "@rounder\n",
    "def fahrenheit_to_celsius(degree, ):\n",
    "    return (degree - 32) * (5 / 9)\n",
    "\n",
    "\n",
    "@rounder\n",
    "def celsius_to_fahrenheit(degree):\n",
    "    return degree * (9 / 5) + 32\n",
    "\n",
    "print(f\"0 °C = {celsius_to_fahrenheit(0, 2)} °F\")\n",
    "print(f\"0 °F = {fahrenheit_to_celsius(0, 2)} °C\")"
   ]
  },
  {
   "cell_type": "markdown",
   "id": "814ab7b2",
   "metadata": {},
   "source": [
    "# Задание 4\n",
    "\n",
    "Напишите функцию для вычисления факториала любого числа.\n",
    "\n",
    "**Решение**"
   ]
  },
  {
   "cell_type": "markdown",
   "id": "07ad18f7",
   "metadata": {},
   "source": [
    "# Задание 5\n",
    "\n",
    "Напишите функцию преобразования любого числа от 1 до 100 в римское число.\n",
    "\n",
    "**Решение**"
   ]
  },
  {
   "cell_type": "markdown",
   "id": "47f7c5b2",
   "metadata": {},
   "source": [
    "# Задание 6\n",
    "\n",
    "Напишите функцию `f(x)`, которая возвращает таблицу умножения числа `x`.\n",
    "\n",
    "**Решение**"
   ]
  },
  {
   "cell_type": "markdown",
   "id": "7ba793c1",
   "metadata": {},
   "source": [
    "# Задание 7\n",
    "\n",
    "Напишите функцию, которая принимает в качестве входных данных список и возвращает его перевернутый вариант.\n",
    "\n",
    "**Решение**"
   ]
  },
  {
   "cell_type": "markdown",
   "id": "cd9fa971",
   "metadata": {},
   "source": [
    "# Задание 8\n",
    "\n",
    "Напишите функцию для расчета сложных процентов.\n",
    "\n",
    "**Решение**"
   ]
  },
  {
   "cell_type": "markdown",
   "id": "9bd25f1d",
   "metadata": {},
   "source": [
    "# Задание 9\n",
    "\n",
    "Напишите функцию `f(x)`, где `x` - любое 6-значное число, а функция возвращает сумму его цифр.\n",
    "\n",
    "**Решение**"
   ]
  },
  {
   "cell_type": "markdown",
   "id": "1b5c2128",
   "metadata": {},
   "source": [
    "# Задание 10\n",
    "\n",
    "Напишите функцию, которая проверяет, является ли переданное число простым.\n",
    "\n",
    "**Решение**"
   ]
  }
 ],
 "metadata": {
  "kernelspec": {
   "display_name": "Python 3 (ipykernel)",
   "language": "python",
   "name": "python3"
  },
  "language_info": {
   "codemirror_mode": {
    "name": "ipython",
    "version": 3
   },
   "file_extension": ".py",
   "mimetype": "text/x-python",
   "name": "python",
   "nbconvert_exporter": "python",
   "pygments_lexer": "ipython3",
   "version": "3.8.10"
  }
 },
 "nbformat": 4,
 "nbformat_minor": 5
}
