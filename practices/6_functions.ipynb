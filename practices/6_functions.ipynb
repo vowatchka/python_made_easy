{
 "cells": [
  {
   "cell_type": "markdown",
   "id": "d2fa47db",
   "metadata": {},
   "source": [
    "# Практические задания главы 6 «Функции»"
   ]
  },
  {
   "cell_type": "markdown",
   "id": "1962e5dc",
   "metadata": {},
   "source": [
    "## Задание 1\n",
    "\n",
    "Напишите функцию, которая проверяет, является ли год високосным.\n",
    "\n",
    "**Решение**"
   ]
  },
  {
   "cell_type": "code",
   "execution_count": 10,
   "id": "ac52bec5",
   "metadata": {},
   "outputs": [
    {
     "name": "stdout",
     "output_type": "stream",
     "text": [
      "Год 2022 не високосный\n",
      "Год 1000 не високосный\n",
      "Год 1657 не високосный\n",
      "Год 1917 не високосный\n",
      "Год 2021 не високосный\n",
      "Год 2020 високосный\n"
     ]
    }
   ],
   "source": [
    "def is_leap_year(year: int) -> bool:\n",
    "    return (year % 4 == 0) and (year % 100 != 0) or (year % 400 == 0)\n",
    "\n",
    "\n",
    "years = [2022, 1000, 1657, 1917, 2021, 2020]\n",
    "for year in years:\n",
    "    print(f\"Год {year} {'високосный' if is_leap_year(year) else 'не високосный'}\")"
   ]
  },
  {
   "cell_type": "markdown",
   "id": "2403cbd5",
   "metadata": {},
   "source": [
    "## Задание 2\n",
    "\n",
    "Напишите функцию `f(x)`, вовзращающую простые множители любого числа `x` (пример простых множителей: `36` - `[2 2 3 3]`, `30` - `[2 3 5]`).\n",
    "\n",
    "**Решение**"
   ]
  },
  {
   "cell_type": "code",
   "execution_count": 9,
   "id": "a904f47a",
   "metadata": {},
   "outputs": [
    {
     "name": "stdout",
     "output_type": "stream",
     "text": [
      "[2, 2, 3, 3]\n",
      "[2, 3, 5]\n",
      "[3, 3, 7]\n"
     ]
    }
   ],
   "source": [
    "def f(x: int) -> list:\n",
    "    factors = []\n",
    "    d = 2\n",
    "    \n",
    "    while d * d <= x:\n",
    "        if x % d == 0:\n",
    "            factors.append(d)\n",
    "            x //= d\n",
    "        else:\n",
    "            d += 1\n",
    "    \n",
    "    if x > 1:\n",
    "        factors.append(x)\n",
    "    \n",
    "    return factors\n",
    "\n",
    "\n",
    "print(f(36))\n",
    "print(f(30))\n",
    "print(f(63))"
   ]
  },
  {
   "cell_type": "markdown",
   "id": "b222d1b7",
   "metadata": {},
   "source": [
    "## Задание 3\n",
    "\n",
    "Напишите функцию для преобразования температуры из градусов Цельсия в градусы Фаренгейта. Напишите еще одну функцию для обратного преобразования.\n",
    "\n",
    "**Решение**"
   ]
  },
  {
   "cell_type": "code",
   "execution_count": 8,
   "id": "2e0d8b96",
   "metadata": {},
   "outputs": [
    {
     "name": "stdout",
     "output_type": "stream",
     "text": [
      "0 °C = 32.0 °F\n",
      "0 °F = -17.78 °C\n"
     ]
    }
   ],
   "source": [
    "from functools import wraps\n",
    "\n",
    "\n",
    "def rounder(func):\n",
    "    @wraps(func)\n",
    "    def wrapper(degree, round_to=None):\n",
    "        result = func(degree)\n",
    "        \n",
    "        if isinstance(round_to, int):\n",
    "            return round(result, round_to)\n",
    "        return result\n",
    "    return wrapper\n",
    "\n",
    "\n",
    "@rounder\n",
    "def fahrenheit_to_celsius(degree, ):\n",
    "    return (degree - 32) * (5 / 9)\n",
    "\n",
    "\n",
    "@rounder\n",
    "def celsius_to_fahrenheit(degree):\n",
    "    return degree * (9 / 5) + 32\n",
    "\n",
    "\n",
    "print(f\"0 °C = {celsius_to_fahrenheit(0, 2)} °F\")\n",
    "print(f\"0 °F = {fahrenheit_to_celsius(0, 2)} °C\")"
   ]
  },
  {
   "cell_type": "markdown",
   "id": "814ab7b2",
   "metadata": {},
   "source": [
    "## Задание 4\n",
    "\n",
    "Напишите функцию для вычисления факториала любого числа.\n",
    "\n",
    "**Решение**"
   ]
  },
  {
   "cell_type": "code",
   "execution_count": 2,
   "id": "99a72c5a",
   "metadata": {},
   "outputs": [
    {
     "name": "stdout",
     "output_type": "stream",
     "text": [
      "1\n",
      "1\n",
      "2\n",
      "6\n",
      "24\n",
      "120\n",
      "720\n",
      "5040\n",
      "40320\n",
      "362880\n",
      "3628800\n"
     ]
    }
   ],
   "source": [
    "def factorial(num: int) -> int:\n",
    "    if num < 0:\n",
    "        raise ValueError(f\"число {num} должно быть больше или равно нулю\")\n",
    "    elif num in (0, 1):\n",
    "        return 1\n",
    "    \n",
    "    result = 1\n",
    "    for i in range(1, num + 1):\n",
    "        result *= i\n",
    "        \n",
    "    return result\n",
    "\n",
    "\n",
    "for i in range(11):\n",
    "    print(factorial(i))"
   ]
  },
  {
   "cell_type": "markdown",
   "id": "07ad18f7",
   "metadata": {},
   "source": [
    "## Задание 5\n",
    "\n",
    "Напишите функцию преобразования любого числа от 1 до 100 в римское число.\n",
    "\n",
    "**Решение**"
   ]
  },
  {
   "cell_type": "code",
   "execution_count": 7,
   "id": "91b77003",
   "metadata": {},
   "outputs": [
    {
     "name": "stdout",
     "output_type": "stream",
     "text": [
      "I   II   III   IV   V   VI   VII   VIII   IX   X   XI   XII   XIII   XIV   XV   XVI   XVII   XVIII   XIX   XX   XXI   XXII   XXIII   XXIV   XXV   XXVI   XXVII   XXVIII   XXIX   XXX   XXXI   XXXII   XXXIII   XXXIV   XXXV   XXXVI   XXXVII   XXXVIII   XXXIX   XL   XLI   XLII   XLIII   XLIV   XLV   XLVI   XLVII   XLVIII   XLIX   L   LI   LII   LIII   LIV   LV   LVI   LVII   LVIII   LIX   LX   LXI   LXII   LXIII   LXIV   LXV   LXVI   LXVII   LXVIII   LXIX   LXX   LXXI   LXXII   LXXIII   LXXIV   LXXV   LXXVI   LXXVII   LXXVIII   LXXIX   LXXX   LXXXI   LXXXII   LXXXIII   LXXXIV   LXXXV   LXXXVI   LXXXVII   LXXXVIII   LXXXIX   XC   XCI   XCII   XCIII   XCIV   XCV   XCVI   XCVII   XCVIII   XCIX   C   "
     ]
    }
   ],
   "source": [
    "def arabic_to_roman_1_100(num: int) -> str:\n",
    "    if num < 1 or num > 100:\n",
    "        raise ValueError(f\"число {num} должно быть в диапазоне от 1 до 100 включительно\")\n",
    "        \n",
    "    # единицы\n",
    "    digit_num_1 = [\"I\", \"II\", \"III\", \"IV\", \"V\", \"VI\", \"VII\", \"VIII\", \"IX\"]\n",
    "    # десятки\n",
    "    digit_num_10 = [\"X\", \"XX\", \"XXX\", \"XL\", \"L\", \"LX\", \"LXX\", \"LXXX\", \"XC\"]\n",
    "    # сотни\n",
    "    digit_num_100 = [\"C\"]\n",
    "    \n",
    "    romans = {1: digit_num_1, 10: digit_num_10, 100: digit_num_100}\n",
    "    \n",
    "    roman = \"\"\n",
    "    i = 1\n",
    "    while num:\n",
    "        digit, num = num % 10, num // 10\n",
    "        \n",
    "        if digit > 0:\n",
    "            roman = romans[i][digit - 1] + roman\n",
    "        \n",
    "        i *= 10\n",
    "        \n",
    "    return roman\n",
    "\n",
    "\n",
    "for i in range(1, 101):\n",
    "    print(arabic_to_roman_1_100(i), end=\" \" * 3)"
   ]
  },
  {
   "cell_type": "markdown",
   "id": "47f7c5b2",
   "metadata": {},
   "source": [
    "## Задание 6\n",
    "\n",
    "Напишите функцию `f(x)`, которая возвращает таблицу умножения числа `x`.\n",
    "\n",
    "**Решение**"
   ]
  },
  {
   "cell_type": "code",
   "execution_count": 12,
   "id": "7a7d7df7",
   "metadata": {},
   "outputs": [
    {
     "name": "stdout",
     "output_type": "stream",
     "text": [
      "9 * 2 = 18\n",
      "9 * 3 = 27\n",
      "9 * 4 = 36\n",
      "9 * 5 = 45\n",
      "9 * 6 = 54\n",
      "9 * 7 = 63\n",
      "9 * 8 = 72\n",
      "9 * 9 = 81\n"
     ]
    }
   ],
   "source": [
    "def mulpiple_table(num: int) -> str:\n",
    "    if num < 2 or num > 9:\n",
    "        raise ValueError(\"Таблица умножения строится только для чисел в диапазоне [2; 9]\")\n",
    "\n",
    "    table = \"\"\n",
    "    for i in range(2, 10):\n",
    "        if i != 2:\n",
    "            table += \"\\n\"\n",
    "        table += f\"{num} * {i} = {num * i}\"\n",
    "        \n",
    "    return table\n",
    "\n",
    "\n",
    "print(mulpiple_table(9))"
   ]
  },
  {
   "cell_type": "markdown",
   "id": "7ba793c1",
   "metadata": {},
   "source": [
    "## Задание 7\n",
    "\n",
    "Напишите функцию, которая принимает в качестве входных данных список и возвращает его перевернутый вариант.\n",
    "\n",
    "**Решение**"
   ]
  },
  {
   "cell_type": "code",
   "execution_count": 13,
   "id": "d080b5f6",
   "metadata": {},
   "outputs": [
    {
     "name": "stdout",
     "output_type": "stream",
     "text": [
      "[0, 1, 2, 3, 4, 5, 6, 7, 8, 9]\n",
      "[9, 8, 7, 6, 5, 4, 3, 2, 1, 0]\n"
     ]
    }
   ],
   "source": [
    "def reverse_list(lst: list) -> list:\n",
    "    return list(reversed(lst))\n",
    "\n",
    "\n",
    "lst = [0, 1, 2, 3, 4, 5, 6, 7, 8, 9]\n",
    "print(lst)\n",
    "print(reverse_list(lst))"
   ]
  },
  {
   "cell_type": "markdown",
   "id": "cd9fa971",
   "metadata": {},
   "source": [
    "## Задание 8\n",
    "\n",
    "Напишите функцию для расчета сложных процентов.\n",
    "\n",
    "**Решение**"
   ]
  },
  {
   "cell_type": "code",
   "execution_count": 14,
   "id": "e4c7cc1e",
   "metadata": {},
   "outputs": [
    {
     "name": "stdout",
     "output_type": "stream",
     "text": [
      "29508.54\n"
     ]
    }
   ],
   "source": [
    "def calc_hard_percent(x: float, s: float, m: int) -> float:\n",
    "    \"\"\"\n",
    "    Формула:\n",
    "    \n",
    "    x * (1 + (s / (12 * 100)))^m\n",
    "    \n",
    "    где x - начальная сумма вклада, s - годовая ставка в процентах, m - срок вклада в месяцах.\n",
    "    \"\"\"\n",
    "    return round(x * (1 + (s / (12 * 100))) ** m, 2)\n",
    "\n",
    "\n",
    "print(calc_hard_percent(20000, 6.5, 6 * 12))"
   ]
  },
  {
   "cell_type": "markdown",
   "id": "9bd25f1d",
   "metadata": {},
   "source": [
    "## Задание 9\n",
    "\n",
    "Напишите функцию `f(x)`, где `x` - любое 6-значное число, а функция возвращает сумму его цифр.\n",
    "\n",
    "**Решение**"
   ]
  },
  {
   "cell_type": "code",
   "execution_count": 15,
   "id": "67fb3e4f",
   "metadata": {},
   "outputs": [
    {
     "name": "stdout",
     "output_type": "stream",
     "text": [
      "0\n",
      "5\n",
      "6\n",
      "10\n",
      "15\n",
      "32\n"
     ]
    }
   ],
   "source": [
    "def digit_sum(num: int) -> int:\n",
    "    if num == 0:\n",
    "        return num\n",
    "    \n",
    "    sum_ = 0\n",
    "    while num:\n",
    "        digit, num = num % 10, num // 10\n",
    "        sum_ += digit\n",
    "        \n",
    "    return sum_\n",
    "\n",
    "\n",
    "print(digit_sum(0))\n",
    "print(digit_sum(5))\n",
    "print(digit_sum(15))\n",
    "print(digit_sum(343))\n",
    "print(digit_sum(3534))\n",
    "print(digit_sum(57848))"
   ]
  },
  {
   "cell_type": "markdown",
   "id": "1b5c2128",
   "metadata": {},
   "source": [
    "## Задание 10\n",
    "\n",
    "Напишите функцию, которая проверяет, является ли переданное число простым.\n",
    "\n",
    "**Решение**"
   ]
  },
  {
   "cell_type": "code",
   "execution_count": 18,
   "id": "0fb14fd6",
   "metadata": {},
   "outputs": [
    {
     "name": "stdout",
     "output_type": "stream",
     "text": [
      "1 не простое число\n",
      "2 простое число\n",
      "3 простое число\n",
      "4 не простое число\n",
      "5 простое число\n",
      "6 не простое число\n",
      "7 простое число\n",
      "8 не простое число\n",
      "9 не простое число\n",
      "10 не простое число\n",
      "11 простое число\n",
      "12 не простое число\n",
      "13 простое число\n",
      "14 не простое число\n",
      "15 не простое число\n",
      "16 не простое число\n",
      "17 простое число\n",
      "18 не простое число\n",
      "19 простое число\n",
      "20 не простое число\n",
      "21 не простое число\n",
      "22 не простое число\n",
      "23 простое число\n",
      "24 не простое число\n",
      "25 не простое число\n",
      "26 не простое число\n",
      "27 не простое число\n",
      "28 не простое число\n",
      "29 простое число\n"
     ]
    }
   ],
   "source": [
    "def is_simple_num(num: int) -> bool:\n",
    "    deviders = 0\n",
    "    for i in range(1, num + 1):\n",
    "        if num % i == 0:\n",
    "            deviders += 1\n",
    "\n",
    "    return deviders == 2\n",
    "\n",
    "\n",
    "for i in range(1, 30):\n",
    "    print(f\"{i} {'простое' if is_simple_num(i) else 'не простое'} число\")"
   ]
  }
 ],
 "metadata": {
  "kernelspec": {
   "display_name": "Python 3 (ipykernel)",
   "language": "python",
   "name": "python3"
  },
  "language_info": {
   "codemirror_mode": {
    "name": "ipython",
    "version": 3
   },
   "file_extension": ".py",
   "mimetype": "text/x-python",
   "name": "python",
   "nbconvert_exporter": "python",
   "pygments_lexer": "ipython3",
   "version": "3.8.10"
  }
 },
 "nbformat": 4,
 "nbformat_minor": 5
}
