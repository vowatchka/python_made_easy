{
 "cells": [
  {
   "cell_type": "markdown",
   "id": "b6b2ca9f",
   "metadata": {},
   "source": [
    "# Практические задания главы 8 «Структуры данных и последовательности»"
   ]
  },
  {
   "cell_type": "markdown",
   "id": "e462d808",
   "metadata": {},
   "source": [
    "## Задание 1\n",
    "\n",
    "Используйте списковые включения для создания следующих списков:\n",
    "\n",
    "* `['C', 'O', 'U', 'N', 'T', 'R', 'Y']`\n",
    "* `['C', 'A', 'T', 'CC', 'AA', 'TT', 'CCC', 'AAA', 'TTT']`\n",
    "* `[[2], [3], [4], [3], [4], [5], [4], [5], [6]]`\n",
    "* `[[2, 3, 4, 5], [3, 4, 5 ,6], [4, 5, 6, 7], [5, 6, 7, 8]]`\n",
    "* `[(1, 1), (2, 1), (3, 1), (1, 2), (2, 2), (3, 2), (1, 3), (2, 3), (3, 3)]`\n",
    "* `[0, 1, 4, 9, 16, 25, 36, 49, 64, 81]`\n",
    "\n",
    "**Решение**"
   ]
  },
  {
   "cell_type": "code",
   "execution_count": 5,
   "id": "e0bc58cd",
   "metadata": {},
   "outputs": [
    {
     "name": "stdout",
     "output_type": "stream",
     "text": [
      "['C', 'O', 'U', 'N', 'T', 'R', 'Y']\n",
      "['C', 'A', 'T', 'CC', 'AA', 'TT', 'CCC', 'AAA', 'TTT']\n",
      "[[2], [3], [4], [3], [4], [5], [4], [5], [6]]\n",
      "[[2, 3, 4, 5], [3, 4, 5, 6], [4, 5, 6, 7], [5, 6, 7, 8]]\n",
      "[(1, 1), (2, 1), (3, 1), (1, 2), (2, 2), (3, 2), (1, 3), (2, 3), (3, 3)]\n",
      "[0, 1, 4, 9, 16, 25, 36, 49, 64, 81]\n"
     ]
    }
   ],
   "source": [
    "print(list(\"country\".upper()))\n",
    "print([char.upper() * i for i in range(1, 4) for char in \"cat\"])\n",
    "print([[j] for i in range(3) for j in range(i + 2, i + 2 + 3)])\n",
    "print([[j for j in range(i + 2, i + 2+ 4)] for i in range(4)])\n",
    "print([(j, i) for i in range(1, 4) for j in range(1, 4)])\n",
    "print([i ** 2 for i in range(10)])"
   ]
  },
  {
   "cell_type": "markdown",
   "id": "e80c84c3",
   "metadata": {},
   "source": [
    "## Задание 2\n",
    "\n",
    "Создайте пустой список. Допустим, он называется `my_list`. Заполните его 50 числами от 1 до 25 (числа могут повторяться).\n",
    "\n",
    "**Решение**"
   ]
  },
  {
   "cell_type": "code",
   "execution_count": 12,
   "id": "37695770",
   "metadata": {},
   "outputs": [
    {
     "name": "stdout",
     "output_type": "stream",
     "text": [
      "[2, 9, 15, 9, 16, 2, 19, 2, 3, 10, 22, 17, 22, 17, 4, 3, 2, 22, 12, 5, 20, 9, 19, 25, 11, 13, 23, 24, 5, 18, 6, 13, 23, 1, 21, 5, 5, 1, 11, 17, 23, 9, 23, 19, 24, 9, 2, 24, 19, 2]\n"
     ]
    }
   ],
   "source": [
    "import random\n",
    "\n",
    "my_list = [random.randint(1, 25) for _ in range(50)]\n",
    "print(my_list)"
   ]
  },
  {
   "cell_type": "markdown",
   "id": "27866ad0",
   "metadata": {},
   "source": [
    "## Задание 3\n",
    "\n",
    "В списке `my_list`, созданном в предыдущем пункте, выполните поиск и узнайте, есть ли в нем числа 11, 18 и 20. Напишите код для поиска этих чисел. Кроме того, подсчитайте, сколько раз встречаются эти числа в списке.\n",
    "\n",
    "**Решение**"
   ]
  },
  {
   "cell_type": "code",
   "execution_count": 14,
   "id": "1f670454",
   "metadata": {},
   "outputs": [
    {
     "name": "stdout",
     "output_type": "stream",
     "text": [
      "Число 11 входит в список my_list 2 раз\n",
      "Число 18 входит в список my_list 1 раз\n",
      "Число 20 входит в список my_list 1 раз\n"
     ]
    }
   ],
   "source": [
    "for num in (11, 18, 20):\n",
    "    if num in my_list:\n",
    "        print(f\"Число {num} входит в список my_list {my_list.count(num)} раз\")\n",
    "    else:\n",
    "        print(f\"Число {num} не входит в список my_list\")"
   ]
  },
  {
   "cell_type": "markdown",
   "id": "f73556c4",
   "metadata": {},
   "source": [
    "## Задание 4\n",
    "\n",
    "Напишите код для вывода информации о том, сколько четных и нечетных чисел в списке `my_list`.\n",
    "\n",
    "**Решение**"
   ]
  },
  {
   "cell_type": "code",
   "execution_count": 19,
   "id": "cf90b7fd",
   "metadata": {},
   "outputs": [
    {
     "name": "stdout",
     "output_type": "stream",
     "text": [
      "Четных чисел в списке my_list: 19\n",
      "Нечетных чисел в списке my_list: 31\n"
     ]
    }
   ],
   "source": [
    "from typing import List\n",
    "\n",
    "\n",
    "def evens(lst: List[int]) -> int:\n",
    "    return len(list(x for x in lst if x % 2 == 0))\n",
    "\n",
    "\n",
    "def odds(lst: List[int]) -> int:\n",
    "    return len(list(x for x in lst if x % 2 != 0))\n",
    "\n",
    "\n",
    "print(f\"Четных чисел в списке my_list: {evens(my_list)}\")\n",
    "print(f\"Нечетных чисел в списке my_list: {odds(my_list)}\")"
   ]
  },
  {
   "cell_type": "markdown",
   "id": "4ecdfdbe",
   "metadata": {},
   "source": [
    "## Задание 5\n",
    "\n",
    "Напишите код для создания из `my_list` другого списка, в котором числа равны квадрату чисел в `my_list`, но в обратном порядке.\n",
    "\n",
    "**Решение**"
   ]
  },
  {
   "cell_type": "code",
   "execution_count": 31,
   "id": "c0730283",
   "metadata": {},
   "outputs": [
    {
     "name": "stdout",
     "output_type": "stream",
     "text": [
      "[4, 361, 576, 4, 81, 576, 361, 529, 81, 529, 289, 121, 1, 25, 25, 441, 1, 529, 169, 36, 324, 25, 576, 529, 169, 121, 625, 361, 81, 400, 25, 144, 484, 4, 9, 16, 289, 484, 289, 484, 100, 9, 4, 361, 4, 256, 81, 225, 81, 4]\n"
     ]
    }
   ],
   "source": [
    "from typing import List\n",
    "\n",
    "\n",
    "def reversed_sqrts(lst: List[int]) -> List[int]:\n",
    "    sqrts = [x ** 2 for x in lst]\n",
    "    return list(reversed(sqrts))\n",
    "\n",
    "\n",
    "print(reversed_sqrts(my_list))"
   ]
  },
  {
   "cell_type": "markdown",
   "id": "22474471",
   "metadata": {},
   "source": [
    "## Задание 6\n",
    "\n",
    "Напишите функцию `sorted_list()`, которая принимает в качестве параметра список и возвращает `True`, если список отсортирован в порядке возрастания, и `False` в противном случае. В качестве дополнительного условия вы можете считать, что элементы списка можно сравнивать с помощью операторов отношения `<`, `>` и т.д.\n",
    "\n",
    "**Решение**"
   ]
  },
  {
   "cell_type": "code",
   "execution_count": 26,
   "id": "08661173",
   "metadata": {},
   "outputs": [
    {
     "name": "stdout",
     "output_type": "stream",
     "text": [
      "False\n",
      "True\n",
      "True\n"
     ]
    }
   ],
   "source": [
    "from typing import List, Any\n",
    "\n",
    "\n",
    "def is_sorted(lst: List[Any], reverse: bool = False) -> bool:\n",
    "    return all(lst[i] <= lst[i + 1] if not reverse else lst[i] >= lst[i + 1] for i in range(len(lst) - 1))\n",
    "\n",
    "\n",
    "lst = [3, 4, 1, 6, 9]\n",
    "print(is_sorted(lst))\n",
    "print(is_sorted(list(sorted(lst))))\n",
    "print(is_sorted(list(sorted(lst, reverse=True)), reverse=True))"
   ]
  },
  {
   "cell_type": "markdown",
   "id": "fc62dcc1",
   "metadata": {},
   "source": [
    "## Задание 7\n",
    "\n",
    "Напишите программу Python для вывода имен и номеров телефонов 10 ваших друзей, сохранения их в словаре и вывода номера телефона по заданному имени.\n",
    "\n",
    "**Решение**"
   ]
  },
  {
   "cell_type": "code",
   "execution_count": 27,
   "id": "649ece87",
   "metadata": {},
   "outputs": [
    {
     "name": "stdout",
     "output_type": "stream",
     "text": [
      "Записей в книжке: 3\n",
      "Телефон Димы: 789\n",
      "Первые 0 записей: []\n",
      "Первые 2 записи: [{'name': 'Вася', 'tel': '123'}, {'name': 'Петя', 'tel': '456'}]\n",
      "Первые 10 записей: [{'name': 'Вася', 'tel': '123'}, {'name': 'Петя', 'tel': '456'}, {'name': 'Дима', 'tel': '789'}]\n"
     ]
    }
   ],
   "source": [
    "from typing import List, Dict\n",
    "from collections import OrderedDict\n",
    "\n",
    "\n",
    "class TelBook:\n",
    "    def __init__(self):\n",
    "        self._telbook = OrderedDict()\n",
    "        \n",
    "    def add(self, name: str, tel: str):\n",
    "        self._telbook[name] = tel\n",
    "        \n",
    "    def show_tel(self, name: str) -> str:\n",
    "        try:\n",
    "            return self._telbook[name]\n",
    "        except KeyError:\n",
    "            raise KeyError(f\"В телефонной книге нет записи с именем {name!r}\")\n",
    "            \n",
    "    def show_first_entries(self, count: int) -> List[Dict[str, str]]:\n",
    "        result = []\n",
    "        \n",
    "        if count > 0:\n",
    "            for name, tel in self._telbook.items():\n",
    "                result.append({\"name\": name, \"tel\": tel})\n",
    "\n",
    "                if len(result) == count:\n",
    "                    break\n",
    "                \n",
    "        return result\n",
    "    \n",
    "    def entries(self) -> int:\n",
    "        return len(self._telbook)\n",
    "    \n",
    "    \n",
    "telbook = TelBook()\n",
    "telbook.add(\"Вася\", \"123\")\n",
    "telbook.add(\"Петя\", \"456\")\n",
    "telbook.add(\"Дима\", \"789\")\n",
    "\n",
    "print(f\"Записей в книжке: {telbook.entries()}\")\n",
    "print(f\"Телефон Димы: {telbook.show_tel('Дима')}\")\n",
    "print(f\"Первые 0 записей: {telbook.show_first_entries(0)}\")\n",
    "print(f\"Первые 2 записи: {telbook.show_first_entries(2)}\")\n",
    "print(f\"Первые 10 записей: {telbook.show_first_entries(10)}\")"
   ]
  },
  {
   "cell_type": "markdown",
   "id": "84dff5c3",
   "metadata": {},
   "source": [
    "## Задание 8\n",
    "\n",
    "Напишите функцию, `remove_duplicates()`, которая принимает в качестве параметра список и возвращает новый список, содержащий только уникальные элементы из первого списка. Подсказка: они не обязательно должны сохранять порядок.\n",
    "\n",
    "**Решение**"
   ]
  },
  {
   "cell_type": "code",
   "execution_count": 29,
   "id": "1ae5614e",
   "metadata": {},
   "outputs": [
    {
     "name": "stdout",
     "output_type": "stream",
     "text": [
      "Уникальные элементы с сохранением порядка: [1, 3, 5, 7, 6, 9, 2, 4]\n",
      "Уникальные элементы без сохранения порядка: [1, 2, 3, 4, 5, 6, 7, 9]\n"
     ]
    }
   ],
   "source": [
    "def remove_duplicates(lst: list, save_order: bool = True) -> list:\n",
    "    if not save_order:\n",
    "        return list(set(lst))\n",
    "    else:\n",
    "        new_list = []\n",
    "        for x in lst:\n",
    "            if x not in new_list:\n",
    "                new_list.append(x)\n",
    "        return new_list\n",
    "    \n",
    "    \n",
    "lst = [1, 3, 5, 7, 3, 5, 5, 6, 9, 2, 3, 4, 9]\n",
    "print(f\"Уникальные элементы с сохранением порядка: {remove_duplicates(lst)}\")\n",
    "print(f\"Уникальные элементы без сохранения порядка: {remove_duplicates(lst, save_order=False)}\")"
   ]
  },
  {
   "cell_type": "markdown",
   "id": "d0915e6a",
   "metadata": {},
   "source": [
    "## Задание 9\n",
    "\n",
    "Напишите функцию для вычисления произведения элементов списка. Что произойдет, если в функцию передать список строк?\n",
    "\n",
    "**Решение**"
   ]
  },
  {
   "cell_type": "code",
   "execution_count": 35,
   "id": "ff930bb5",
   "metadata": {},
   "outputs": [
    {
     "name": "stdout",
     "output_type": "stream",
     "text": [
      "Произведение элементов списка []: 0\n",
      "Произведение элементов списка [4]: 4\n",
      "Произведение элементов списка [2, 5, 3]: 30\n",
      "Элементы должны быть числами\n"
     ]
    }
   ],
   "source": [
    "from typing import List\n",
    "\n",
    "\n",
    "def mult_items(lst: List[int]) -> int:\n",
    "    if not len(lst):\n",
    "        return 0\n",
    "    else:\n",
    "        acum = lst[0]\n",
    "        for x in lst[1:]:\n",
    "            acum *= x\n",
    "        return acum\n",
    "    \n",
    "    \n",
    "print(f\"Произведение элементов списка []: {mult_items([])}\")\n",
    "print(f\"Произведение элементов списка [4]: {mult_items([4])}\")\n",
    "print(f\"Произведение элементов списка [2, 5, 3]: {mult_items([2, 5, 3])}\")\n",
    "\n",
    "try:\n",
    "    mult_items([\"1\", \"2\", \"3\"])\n",
    "except TypeError:\n",
    "    print(\"Элементы должны быть числами\")"
   ]
  }
 ],
 "metadata": {
  "kernelspec": {
   "display_name": "Python 3 (ipykernel)",
   "language": "python",
   "name": "python3"
  },
  "language_info": {
   "codemirror_mode": {
    "name": "ipython",
    "version": 3
   },
   "file_extension": ".py",
   "mimetype": "text/x-python",
   "name": "python",
   "nbconvert_exporter": "python",
   "pygments_lexer": "ipython3",
   "version": "3.8.10"
  }
 },
 "nbformat": 4,
 "nbformat_minor": 5
}
