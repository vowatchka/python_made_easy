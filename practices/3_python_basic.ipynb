{
 "cells": [
  {
   "cell_type": "markdown",
   "id": "958a90f2",
   "metadata": {},
   "source": [
    "# Практические задания главы 3 «Основы Python»"
   ]
  },
  {
   "cell_type": "markdown",
   "id": "1e9a9216",
   "metadata": {},
   "source": [
    "## Задание 1\n",
    "\n",
    "Напишите программу, в которой бы соединялись ваши имя и фамилия. Между ними должен быть пробел.\n",
    "\n",
    "**Решение**"
   ]
  },
  {
   "cell_type": "code",
   "execution_count": 1,
   "id": "aa7b9592",
   "metadata": {},
   "outputs": [
    {
     "data": {
      "text/plain": [
       "'Владимир Салтыков'"
      ]
     },
     "execution_count": 1,
     "metadata": {},
     "output_type": "execute_result"
    }
   ],
   "source": [
    "\" \".join([\"Владимир\", \"Салтыков\"])"
   ]
  },
  {
   "cell_type": "markdown",
   "id": "6edb6d96",
   "metadata": {},
   "source": [
    "## Задание 2\n",
    "\n",
    "Прямоугольник имеет длину `l` (англ. буква *l*) и высоту `h`. Напишите код для вычисления площади прямоугольника с высотой 8 и длиной 23. В коде должно быть присвоение значений переменным `l` и `h`, чтобы один и тот же код можно было использовать повторно. Для вычисления площади прямоугольника нужно его длину умножить на высоту.\n",
    "\n",
    "**Решение**"
   ]
  },
  {
   "cell_type": "code",
   "execution_count": 2,
   "id": "2c04dcef",
   "metadata": {},
   "outputs": [
    {
     "data": {
      "text/plain": [
       "184"
      ]
     },
     "execution_count": 2,
     "metadata": {},
     "output_type": "execute_result"
    }
   ],
   "source": [
    "l = 23\n",
    "h = 8\n",
    "\n",
    "l * h"
   ]
  },
  {
   "cell_type": "markdown",
   "id": "087f56ff",
   "metadata": {},
   "source": [
    "## Задание 3\n",
    "\n",
    "Чему равен квадрат числа 32 и куб числа 27? Напишите оператор, который ответит на этот вопрос.\n",
    "\n",
    "**Решение**"
   ]
  },
  {
   "cell_type": "code",
   "execution_count": 9,
   "id": "ae3b88d2",
   "metadata": {},
   "outputs": [
    {
     "name": "stdout",
     "output_type": "stream",
     "text": [
      "1024\n",
      "19683\n"
     ]
    }
   ],
   "source": [
    "print(32 ** 2)\n",
    "print(27 ** 3)"
   ]
  },
  {
   "cell_type": "markdown",
   "id": "4bdb1b2a",
   "metadata": {},
   "source": [
    "## Задание 4\n",
    "\n",
    "Напишите приведенное ниже уравнение на Python. Присвойте числовые значения переменным и вычислите результат.\n",
    "\n",
    "$(a + b)^2 = a^2 + b^2 + 2ab$\n",
    "\n",
    "**Решение**"
   ]
  },
  {
   "cell_type": "code",
   "execution_count": 7,
   "id": "1ffb33a9",
   "metadata": {},
   "outputs": [
    {
     "name": "stdout",
     "output_type": "stream",
     "text": [
      "9\n",
      "9\n"
     ]
    }
   ],
   "source": [
    "a = 1\n",
    "b = 2\n",
    "\n",
    "print((a + b) ** 2)\n",
    "print(a ** 2 + b ** 2 + 2 * a * b)"
   ]
  },
  {
   "cell_type": "markdown",
   "id": "6fb53a24",
   "metadata": {},
   "source": [
    "## Задание 5\n",
    "\n",
    "Найдите длину своего имени, написав однострочный код на Python.\n",
    "\n",
    "**Решение**"
   ]
  },
  {
   "cell_type": "code",
   "execution_count": 10,
   "id": "d910bc0f",
   "metadata": {},
   "outputs": [
    {
     "data": {
      "text/plain": [
       "8"
      ]
     },
     "execution_count": 10,
     "metadata": {},
     "output_type": "execute_result"
    }
   ],
   "source": [
    "len(\"Владимир\")"
   ]
  },
  {
   "cell_type": "markdown",
   "id": "4c3ab9b2",
   "metadata": {},
   "source": [
    "## Задание 6\n",
    "\n",
    "Нарисуйте прямоугольник, используя функцию `print()`.\n",
    "\n",
    "**Решение**"
   ]
  },
  {
   "cell_type": "code",
   "execution_count": 17,
   "id": "bfae500c",
   "metadata": {},
   "outputs": [
    {
     "name": "stdout",
     "output_type": "stream",
     "text": [
      "+--------------+\n",
      "|              |\n",
      "|              |\n",
      "|              |\n",
      "+--------------+\n"
     ]
    }
   ],
   "source": [
    "l = 7\n",
    "h = 3\n",
    "real_l = l * 2\n",
    "\n",
    "print(f\"+{'-' * real_l}+\")\n",
    "for i in range(h):\n",
    "    print(f\"|{' ' * real_l}|\")\n",
    "print(f\"+{'-' * real_l}+\")"
   ]
  },
  {
   "cell_type": "markdown",
   "id": "b602b769",
   "metadata": {},
   "source": [
    "## Задание 7\n",
    "\n",
    "Нарисуйте букву `P` с помощью простейшей геометрии и функции `print()`.\n",
    "\n",
    "**Решение**"
   ]
  },
  {
   "cell_type": "code",
   "execution_count": 18,
   "id": "7f5c88d1",
   "metadata": {},
   "outputs": [
    {
     "name": "stdout",
     "output_type": "stream",
     "text": [
      "       _______________\n",
      "      /    _____     /\n",
      "     /    /    /    / \n",
      "    /    /____/    /  \n",
      "   /     _________/   \n",
      "  /     /             \n",
      " /     /              \n",
      "/_____/               \n"
     ]
    }
   ],
   "source": [
    "print(\"       _______________\")\n",
    "print(\"      /    _____     /\")\n",
    "print(\"     /    /    /    / \")\n",
    "print(\"    /    /____/    /  \")\n",
    "print(\"   /     _________/   \")\n",
    "print(\"  /     /             \")\n",
    "print(\" /     /              \")\n",
    "print(\"/_____/               \")"
   ]
  },
  {
   "cell_type": "markdown",
   "id": "0e607425",
   "metadata": {},
   "source": [
    "## Задание 8\n",
    "\n",
    "Создайте переменную `name` и присвойте ей свое имя. Переменной `age` присвойте свой возраст. Затем напишите оператор `print()`, который выведет текст «`Меня зовут name, а мой возраст - age`», с подставленными значениями выших переменных. Значения `name` и `age` должны быть строкой и числом соответственно.\n",
    "\n",
    "**Решение**"
   ]
  },
  {
   "cell_type": "code",
   "execution_count": 19,
   "id": "6d68a884",
   "metadata": {},
   "outputs": [
    {
     "name": "stdout",
     "output_type": "stream",
     "text": [
      "Меня зовут Владимир, а мой возраст - 31\n"
     ]
    }
   ],
   "source": [
    "name = \"Владимир\"\n",
    "age = 31\n",
    "\n",
    "print(f\"Меня зовут {name}, а мой возраст - {age}\")"
   ]
  },
  {
   "cell_type": "markdown",
   "id": "b571678f",
   "metadata": {},
   "source": [
    "## Задание 9\n",
    "\n",
    "Исправьте синтаксическую ошибку в следующих строках кода:\n",
    "```\n",
    "words = [cat, window, defenestrate]\n",
    "for w in words:\n",
    "    print(w, len(w))\n",
    "```\n",
    "\n",
    "**Решение**"
   ]
  },
  {
   "cell_type": "code",
   "execution_count": 20,
   "id": "6468cc82",
   "metadata": {},
   "outputs": [
    {
     "name": "stdout",
     "output_type": "stream",
     "text": [
      "cat 3\n",
      "window 6\n",
      "defenestrate 12\n"
     ]
    }
   ],
   "source": [
    "words = [\"cat\", \"window\", \"defenestrate\"]\n",
    "for w in words:\n",
    "    print(w, len(w))"
   ]
  },
  {
   "cell_type": "markdown",
   "id": "eef5a839",
   "metadata": {},
   "source": [
    "## Задание 10\n",
    "\n",
    "Исправьте синтаксическую ошибку в следующих строках кода:\n",
    "```\n",
    "a, b = 0, 1\n",
    "while a < 15:\n",
    "print(a, end=',')\n",
    "a, b = b, a + b\n",
    "```\n",
    "\n",
    "**Решение**"
   ]
  },
  {
   "cell_type": "code",
   "execution_count": 21,
   "id": "4aa34351",
   "metadata": {},
   "outputs": [
    {
     "name": "stdout",
     "output_type": "stream",
     "text": [
      "0,1,1,2,3,5,8,13,"
     ]
    }
   ],
   "source": [
    "a, b = 0, 1\n",
    "while a < 15:\n",
    "    print(a, end=',')\n",
    "    a, b = b, a + b"
   ]
  }
 ],
 "metadata": {
  "kernelspec": {
   "display_name": "Python 3 (ipykernel)",
   "language": "python",
   "name": "python3"
  },
  "language_info": {
   "codemirror_mode": {
    "name": "ipython",
    "version": 3
   },
   "file_extension": ".py",
   "mimetype": "text/x-python",
   "name": "python",
   "nbconvert_exporter": "python",
   "pygments_lexer": "ipython3",
   "version": "3.8.10"
  }
 },
 "nbformat": 4,
 "nbformat_minor": 5
}
