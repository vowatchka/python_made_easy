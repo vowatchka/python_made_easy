{
 "cells": [
  {
   "cell_type": "markdown",
   "id": "34c1ad46",
   "metadata": {},
   "source": [
    "# Практические задания главы 7 «ПРОЕКТ 1: Рисунки из символов с помощью циклов и функций»"
   ]
  },
  {
   "cell_type": "markdown",
   "id": "12dc3ca3",
   "metadata": {},
   "source": [
    "## Рисунок 1\n",
    "\n",
    "```\n",
    "* * * * * *\n",
    " * * * * *\n",
    "  * * * *\n",
    "   * * *\n",
    "    * *\n",
    "     *\n",
    "```\n",
    "\n",
    "**Решение**"
   ]
  },
  {
   "cell_type": "code",
   "execution_count": 74,
   "id": "078ab97e",
   "metadata": {},
   "outputs": [
    {
     "name": "stdout",
     "output_type": "stream",
     "text": [
      "* * * * * *\n",
      " * * * * *\n",
      "  * * * *\n",
      "   * * *\n",
      "    * *\n",
      "     *\n"
     ]
    }
   ],
   "source": [
    "def pic1(height):\n",
    "    for i in range(height, 0, -1):\n",
    "        # отступы\n",
    "        print(\" \" * (height - i), end=\"\")\n",
    "        # звездочки\n",
    "        print(\" \".join(list(\"*\" * i)))\n",
    "        \n",
    "        \n",
    "pic1(6)"
   ]
  },
  {
   "cell_type": "markdown",
   "id": "7df978e4",
   "metadata": {},
   "source": [
    "## Рисунок 2\n",
    "\n",
    "```\n",
    "*\n",
    "* *\n",
    "* * *\n",
    "* * * *\n",
    "* * * * *\n",
    "* * * * * *\n",
    "\n",
    "* * * * * *\n",
    "* * * * *\n",
    "* * * *\n",
    "* * *\n",
    "* *\n",
    "*\n",
    "```\n",
    "\n",
    "**Решение**"
   ]
  },
  {
   "cell_type": "code",
   "execution_count": 79,
   "id": "810ad81c",
   "metadata": {},
   "outputs": [
    {
     "name": "stdout",
     "output_type": "stream",
     "text": [
      "*\n",
      "* *\n",
      "* * *\n",
      "* * * *\n",
      "* * * * *\n",
      "* * * * * *\n",
      "\n",
      "* * * * * *\n",
      "* * * * *\n",
      "* * * *\n",
      "* * *\n",
      "* *\n",
      "*\n"
     ]
    }
   ],
   "source": [
    "def print_stars(count):\n",
    "    print(\" \".join(list(\"*\" * count)))\n",
    "\n",
    "\n",
    "def triangle(height):\n",
    "    for i in range(1, height + 1):\n",
    "        print_stars(i)\n",
    "        \n",
    "        \n",
    "def triangle_reversed(height):\n",
    "    for i in range(height, 0, -1):\n",
    "        print_stars(i)\n",
    "        \n",
    "        \n",
    "def pic2(height):\n",
    "    triangle(height)\n",
    "    print()\n",
    "    triangle_reversed(height)\n",
    "    \n",
    "    \n",
    "pic2(6)"
   ]
  },
  {
   "cell_type": "markdown",
   "id": "4a498caa",
   "metadata": {},
   "source": [
    "## Рисунок 3\n",
    "\n",
    "```\n",
    "    *\n",
    "   * *\n",
    "  * * *\n",
    " * * * *\n",
    "* * * * *\n",
    " * * * *\n",
    "  * * *\n",
    "   * *\n",
    "    *\n",
    "```\n",
    "\n",
    "**Решение**"
   ]
  },
  {
   "cell_type": "code",
   "execution_count": 83,
   "id": "16a53049",
   "metadata": {},
   "outputs": [
    {
     "name": "stdout",
     "output_type": "stream",
     "text": [
      "    *\n",
      "   * *\n",
      "  * * *\n",
      " * * * *\n",
      "* * * * *\n",
      " * * * *\n",
      "  * * *\n",
      "   * *\n",
      "    *\n"
     ]
    }
   ],
   "source": [
    "def print_stars(count, space_count):\n",
    "    # отступы\n",
    "    print(\" \" * space_count, end=\"\")\n",
    "    # звездочки\n",
    "    print(\" \".join(list(\"*\" * count)))\n",
    "\n",
    "def pic3(half_height):\n",
    "    for i in range(1, half_height + 1):\n",
    "        print_stars(i, half_height - i)\n",
    "        \n",
    "    for i in range(half_height - 1, 0, -1):\n",
    "        print_stars(i, half_height - i)\n",
    "        \n",
    "        \n",
    "pic3(5)"
   ]
  },
  {
   "cell_type": "markdown",
   "id": "30053166",
   "metadata": {},
   "source": [
    "## Рисунок 4\n",
    "\n",
    "```\n",
    "****************\n",
    "*******__*******\n",
    "******____******\n",
    "*****______*****\n",
    "****________****\n",
    "***__________***\n",
    "**____________**\n",
    "*______________*\n",
    "```\n",
    "\n",
    "**Решение**"
   ]
  },
  {
   "cell_type": "code",
   "execution_count": 88,
   "id": "11ecad66",
   "metadata": {},
   "outputs": [
    {
     "name": "stdout",
     "output_type": "stream",
     "text": [
      "****************\n",
      "*******__*******\n",
      "******____******\n",
      "*****______*****\n",
      "****________****\n",
      "***__________***\n",
      "**____________**\n",
      "*______________*\n"
     ]
    }
   ],
   "source": [
    "def print_chars(char, count):\n",
    "    print(char * count, end=\"\")\n",
    "\n",
    "\n",
    "def pic4(height):\n",
    "    for i in range(0, height):\n",
    "        print_chars(\"*\", height - i)\n",
    "        print_chars(\"_\", i * 2)\n",
    "        print_chars(\"*\", height - i)\n",
    "        print()\n",
    "        \n",
    "\n",
    "pic4(8)"
   ]
  },
  {
   "cell_type": "markdown",
   "id": "0d7e2616",
   "metadata": {},
   "source": [
    "## Рисунок 5\n",
    "\n",
    "```\n",
    "* * * * * *\n",
    " * * * * *\n",
    "  * * * *\n",
    "   * * *\n",
    "    * *\n",
    "     *\n",
    "     *\n",
    "    * *\n",
    "   * * *\n",
    "  * * * *\n",
    " * * * * *\n",
    "* * * * * *\n",
    "```\n",
    "\n",
    "**Решение**"
   ]
  },
  {
   "cell_type": "code",
   "execution_count": 92,
   "id": "13b0e772",
   "metadata": {},
   "outputs": [
    {
     "name": "stdout",
     "output_type": "stream",
     "text": [
      "* * * * * *\n",
      " * * * * *\n",
      "  * * * *\n",
      "   * * *\n",
      "    * *\n",
      "     *\n",
      "     *\n",
      "    * *\n",
      "   * * *\n",
      "  * * * *\n",
      " * * * * *\n",
      "* * * * * *\n"
     ]
    }
   ],
   "source": [
    "def print_stars(count, space_count):\n",
    "    # отступы\n",
    "    print(\" \" * space_count, end=\"\")\n",
    "    # звездочки\n",
    "    print(\" \".join(list(\"*\" * count)))\n",
    "        \n",
    "        \n",
    "def pic5(height):\n",
    "    for i in range(height, 0, -1):\n",
    "        print_stars(i, height - i)\n",
    "    for i in range(1, height + 1):\n",
    "        print_stars(i, height - i)\n",
    "    \n",
    "    \n",
    "pic5(6)"
   ]
  },
  {
   "cell_type": "markdown",
   "id": "c56fb439",
   "metadata": {},
   "source": [
    "## Рисунок 6\n",
    "\n",
    "```\n",
    "6 6 6 6 6 6\n",
    "6 6 6 6 6\n",
    "6 6 6 6\n",
    "6 6 6\n",
    "6 6\n",
    "6\n",
    "```\n",
    "\n",
    "**Решение**"
   ]
  },
  {
   "cell_type": "code",
   "execution_count": 105,
   "id": "62893d6b",
   "metadata": {},
   "outputs": [
    {
     "name": "stdout",
     "output_type": "stream",
     "text": [
      "6 6 6 6 6 6\n",
      "6 6 6 6 6\n",
      "6 6 6 6\n",
      "6 6 6\n",
      "6 6\n",
      "6\n"
     ]
    }
   ],
   "source": [
    "def print_digits(digit, count):\n",
    "    print(\" \".join([str(digit)] * count))\n",
    "\n",
    "\n",
    "def pic6(height):\n",
    "    for i in range(height, 0, -1):\n",
    "        print_digits(6, i)\n",
    "    \n",
    "    \n",
    "pic6(6)"
   ]
  },
  {
   "cell_type": "markdown",
   "id": "c958a299",
   "metadata": {},
   "source": [
    "## Рисунок 7\n",
    "\n",
    "```\n",
    "6 6 6 6 6 6\n",
    "5 5 5 5 5\n",
    "5 5 5 5\n",
    "5 5 5\n",
    "5 5\n",
    "5\n",
    "```\n",
    "\n",
    "**Решение**"
   ]
  },
  {
   "cell_type": "code",
   "execution_count": 100,
   "id": "3669f8f4",
   "metadata": {},
   "outputs": [
    {
     "name": "stdout",
     "output_type": "stream",
     "text": [
      "6 6 6 6 6 6\n",
      "5 5 5 5 5\n",
      "5 5 5 5\n",
      "5 5 5\n",
      "5 5\n",
      "5\n"
     ]
    }
   ],
   "source": [
    "def print_digits(digit, count):\n",
    "    print(\" \".join([str(digit)] * count))\n",
    "\n",
    "\n",
    "def pic7(height):\n",
    "    for i in range(height, 0, -1):\n",
    "        if i == height:\n",
    "            print_digits(height, i)\n",
    "        else:\n",
    "            print_digits(height - 1, i)\n",
    "    \n",
    "    \n",
    "pic7(6)"
   ]
  },
  {
   "cell_type": "markdown",
   "id": "8bfd2aa9",
   "metadata": {},
   "source": [
    "## Рисунок 8\n",
    "\n",
    "```\n",
    "1\n",
    "2 3\n",
    "4 5 6\n",
    "7 8 9 10\n",
    "```\n",
    "\n",
    "**Решение**"
   ]
  },
  {
   "cell_type": "code",
   "execution_count": 110,
   "id": "efd86089",
   "metadata": {},
   "outputs": [
    {
     "name": "stdout",
     "output_type": "stream",
     "text": [
      "1\n",
      "2 3\n",
      "4 5 6\n",
      "7 8 9 10\n"
     ]
    }
   ],
   "source": [
    "def pic8(height):\n",
    "    last_digit = 1\n",
    "    for row_num in range(1, height + 1):\n",
    "        # числа в строке идут от последнего числа в предыдущей строке\n",
    "        # и до (последнее число в предыдущей строке + номер строки)\n",
    "        digits = list(range(last_digit, last_digit + row_num))\n",
    "        last_digit = digits[-1] + 1\n",
    "        \n",
    "        print(\" \".join(str(x) for x in digits))\n",
    "        \n",
    "        \n",
    "pic8(4)"
   ]
  },
  {
   "cell_type": "markdown",
   "id": "89b20af1",
   "metadata": {},
   "source": [
    "## Рисунок 9\n",
    "\n",
    "```\n",
    "  1\n",
    "  2     1\n",
    "  4     2     1\n",
    "  8     4     2     1\n",
    " 16     8     4     2    1\n",
    " 32    16     8     4    2    1\n",
    " 64    32    16     8    4    2    1\n",
    "128    64    32    16    8    4    2    1\n",
    "```\n",
    "\n",
    "**Решение**"
   ]
  },
  {
   "cell_type": "code",
   "execution_count": 141,
   "id": "ba401a2c",
   "metadata": {},
   "outputs": [
    {
     "name": "stdout",
     "output_type": "stream",
     "text": [
      "  1    \n",
      "  2      1    \n",
      "  4      2      1    \n",
      "  8      4      2      1    \n",
      " 16      8      4      2      1    \n",
      " 32     16      8      4      2      1    \n",
      " 64     32     16      8      4      2      1    \n",
      "128     64     32     16      8      4      2      1    \n"
     ]
    }
   ],
   "source": [
    "def pic9(height):\n",
    "    power_of_two = height - 1\n",
    "    \n",
    "    # вычисляем длину для выравнивания\n",
    "    rjust_len = len(str(2 ** power_of_two))\n",
    "    \n",
    "    # цикл по строкам\n",
    "    for i in range(0, power_of_two + 1):\n",
    "        # цикл по степеням\n",
    "        for j in range(i, -1, -1):\n",
    "            print(str(2 ** j).rjust(rjust_len), end=\" \" * 4)\n",
    "        print()\n",
    "        \n",
    "        \n",
    "pic9(8)"
   ]
  },
  {
   "cell_type": "markdown",
   "id": "1935d730",
   "metadata": {},
   "source": [
    "## Рисунок 10\n",
    "\n",
    "```\n",
    "6 5 4 3 2 1 1 2 3 4 5 6\n",
    "\n",
    "6 5 4 3 2     2 3 4 5 6\n",
    "\n",
    "6 5 4 3         3 4 5 6\n",
    "\n",
    "6 5 4             4 5 6\n",
    "\n",
    "6 5                 5 6\n",
    "\n",
    "6                     6\n",
    "```\n",
    "\n",
    "**Решение**"
   ]
  },
  {
   "cell_type": "code",
   "execution_count": 134,
   "id": "d7a9b897",
   "metadata": {},
   "outputs": [
    {
     "name": "stdout",
     "output_type": "stream",
     "text": [
      "6 5 4 3 2 1 1 2 3 4 5 6\n",
      "\n",
      "6 5 4 3 2     2 3 4 5 6\n",
      "\n",
      "6 5 4 3         3 4 5 6\n",
      "\n",
      "6 5 4             4 5 6\n",
      "\n",
      "6 5                 5 6\n",
      "\n",
      "6                     6\n"
     ]
    }
   ],
   "source": [
    "def pic10(height):\n",
    "    for i in range(0, height):\n",
    "        # цифры в обратном порядке\n",
    "        print(\" \".join(str(x) for x in range(height, i, -1)), end=\"\")\n",
    "        \n",
    "        # пропущенные числа\n",
    "        missed_digits = list(range(1, i + 1)) * 2\n",
    "        # space_count = x + y\n",
    "        # где x - длина строки, состоящей из пропущенных чисел, а y - количество пробелов, которыми\n",
    "        # должны разделяться пропущенные числа (оно равно количестыу пропущенных чисел + 1)\n",
    "        space_count = len(\"\".join(str(x) for x in missed_digits)) + len(missed_digits) + 1\n",
    "        print(\" \" * space_count, end=\"\")\n",
    "        \n",
    "        # цифры в прямом порядке\n",
    "        print(\" \".join(str(x) for x in range(i + 1, height + 1)))\n",
    "        \n",
    "        if i != height - 1:\n",
    "            # пустая строка\n",
    "            print()\n",
    "        \n",
    "        \n",
    "pic10(6)"
   ]
  }
 ],
 "metadata": {
  "kernelspec": {
   "display_name": "Python 3 (ipykernel)",
   "language": "python",
   "name": "python3"
  },
  "language_info": {
   "codemirror_mode": {
    "name": "ipython",
    "version": 3
   },
   "file_extension": ".py",
   "mimetype": "text/x-python",
   "name": "python",
   "nbconvert_exporter": "python",
   "pygments_lexer": "ipython3",
   "version": "3.8.10"
  }
 },
 "nbformat": 4,
 "nbformat_minor": 5
}
